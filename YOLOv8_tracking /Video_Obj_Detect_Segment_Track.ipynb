{
  "nbformat": 4,
  "nbformat_minor": 0,
  "metadata": {
    "colab": {
      "provenance": [],
      "gpuType": "T4",
      "mount_file_id": "1gRwXWSnTPGKlHNzhV5k_28jK_wvkenL4",
      "authorship_tag": "ABX9TyNyApT5MeGf+Rx3BXyWpdrF",
      "include_colab_link": true
    },
    "kernelspec": {
      "name": "python3",
      "display_name": "Python 3"
    },
    "language_info": {
      "name": "python"
    },
    "accelerator": "GPU"
  },
  "cells": [
    {
      "cell_type": "markdown",
      "metadata": {
        "id": "view-in-github",
        "colab_type": "text"
      },
      "source": [
        "<a href=\"https://colab.research.google.com/github/Akhilesh-K-Yadav/Video-Based-Projects/blob/main/YOLOv8_tracking%20/Video_Obj_Detect_Segment_Track.ipynb\" target=\"_parent\"><img src=\"https://colab.research.google.com/assets/colab-badge.svg\" alt=\"Open In Colab\"/></a>"
      ]
    },
    {
      "cell_type": "code",
      "source": [
        "!pip install git+https://github.com/ultralytics/ultralytics.git@main"
      ],
      "metadata": {
        "colab": {
          "base_uri": "https://localhost:8080/"
        },
        "id": "WXWGU0zWzkIi",
        "outputId": "1dec50ec-64fd-498b-ad36-b44ec8d9c6af"
      },
      "execution_count": 2,
      "outputs": [
        {
          "output_type": "stream",
          "name": "stdout",
          "text": [
            "Collecting git+https://github.com/ultralytics/ultralytics.git@main\n",
            "  Cloning https://github.com/ultralytics/ultralytics.git (to revision main) to /tmp/pip-req-build-w3z83els\n",
            "  Running command git clone --filter=blob:none --quiet https://github.com/ultralytics/ultralytics.git /tmp/pip-req-build-w3z83els\n",
            "  Resolved https://github.com/ultralytics/ultralytics.git to commit 3c1170769a63068185a17f56229906440bee188e\n",
            "  Installing build dependencies ... \u001b[?25l\u001b[?25hdone\n",
            "  Getting requirements to build wheel ... \u001b[?25l\u001b[?25hdone\n",
            "  Preparing metadata (pyproject.toml) ... \u001b[?25l\u001b[?25hdone\n",
            "Requirement already satisfied: matplotlib>=3.3.0 in /usr/local/lib/python3.10/dist-packages (from ultralytics==8.1.5) (3.7.1)\n",
            "Requirement already satisfied: numpy>=1.22.2 in /usr/local/lib/python3.10/dist-packages (from ultralytics==8.1.5) (1.23.5)\n",
            "Requirement already satisfied: opencv-python>=4.6.0 in /usr/local/lib/python3.10/dist-packages (from ultralytics==8.1.5) (4.8.0.76)\n",
            "Requirement already satisfied: pillow>=7.1.2 in /usr/local/lib/python3.10/dist-packages (from ultralytics==8.1.5) (9.4.0)\n",
            "Requirement already satisfied: pyyaml>=5.3.1 in /usr/local/lib/python3.10/dist-packages (from ultralytics==8.1.5) (6.0.1)\n",
            "Requirement already satisfied: requests>=2.23.0 in /usr/local/lib/python3.10/dist-packages (from ultralytics==8.1.5) (2.31.0)\n",
            "Requirement already satisfied: scipy>=1.4.1 in /usr/local/lib/python3.10/dist-packages (from ultralytics==8.1.5) (1.11.4)\n",
            "Requirement already satisfied: torch>=1.8.0 in /usr/local/lib/python3.10/dist-packages (from ultralytics==8.1.5) (2.1.0+cu121)\n",
            "Requirement already satisfied: torchvision>=0.9.0 in /usr/local/lib/python3.10/dist-packages (from ultralytics==8.1.5) (0.16.0+cu121)\n",
            "Requirement already satisfied: tqdm>=4.64.0 in /usr/local/lib/python3.10/dist-packages (from ultralytics==8.1.5) (4.66.1)\n",
            "Requirement already satisfied: psutil in /usr/local/lib/python3.10/dist-packages (from ultralytics==8.1.5) (5.9.5)\n",
            "Requirement already satisfied: py-cpuinfo in /usr/local/lib/python3.10/dist-packages (from ultralytics==8.1.5) (9.0.0)\n",
            "Collecting thop>=0.1.1 (from ultralytics==8.1.5)\n",
            "  Downloading thop-0.1.1.post2209072238-py3-none-any.whl (15 kB)\n",
            "Requirement already satisfied: pandas>=1.1.4 in /usr/local/lib/python3.10/dist-packages (from ultralytics==8.1.5) (1.5.3)\n",
            "Requirement already satisfied: seaborn>=0.11.0 in /usr/local/lib/python3.10/dist-packages (from ultralytics==8.1.5) (0.13.1)\n",
            "Requirement already satisfied: contourpy>=1.0.1 in /usr/local/lib/python3.10/dist-packages (from matplotlib>=3.3.0->ultralytics==8.1.5) (1.2.0)\n",
            "Requirement already satisfied: cycler>=0.10 in /usr/local/lib/python3.10/dist-packages (from matplotlib>=3.3.0->ultralytics==8.1.5) (0.12.1)\n",
            "Requirement already satisfied: fonttools>=4.22.0 in /usr/local/lib/python3.10/dist-packages (from matplotlib>=3.3.0->ultralytics==8.1.5) (4.47.2)\n",
            "Requirement already satisfied: kiwisolver>=1.0.1 in /usr/local/lib/python3.10/dist-packages (from matplotlib>=3.3.0->ultralytics==8.1.5) (1.4.5)\n",
            "Requirement already satisfied: packaging>=20.0 in /usr/local/lib/python3.10/dist-packages (from matplotlib>=3.3.0->ultralytics==8.1.5) (23.2)\n",
            "Requirement already satisfied: pyparsing>=2.3.1 in /usr/local/lib/python3.10/dist-packages (from matplotlib>=3.3.0->ultralytics==8.1.5) (3.1.1)\n",
            "Requirement already satisfied: python-dateutil>=2.7 in /usr/local/lib/python3.10/dist-packages (from matplotlib>=3.3.0->ultralytics==8.1.5) (2.8.2)\n",
            "Requirement already satisfied: pytz>=2020.1 in /usr/local/lib/python3.10/dist-packages (from pandas>=1.1.4->ultralytics==8.1.5) (2023.3.post1)\n",
            "Requirement already satisfied: charset-normalizer<4,>=2 in /usr/local/lib/python3.10/dist-packages (from requests>=2.23.0->ultralytics==8.1.5) (3.3.2)\n",
            "Requirement already satisfied: idna<4,>=2.5 in /usr/local/lib/python3.10/dist-packages (from requests>=2.23.0->ultralytics==8.1.5) (3.6)\n",
            "Requirement already satisfied: urllib3<3,>=1.21.1 in /usr/local/lib/python3.10/dist-packages (from requests>=2.23.0->ultralytics==8.1.5) (2.0.7)\n",
            "Requirement already satisfied: certifi>=2017.4.17 in /usr/local/lib/python3.10/dist-packages (from requests>=2.23.0->ultralytics==8.1.5) (2023.11.17)\n",
            "Requirement already satisfied: filelock in /usr/local/lib/python3.10/dist-packages (from torch>=1.8.0->ultralytics==8.1.5) (3.13.1)\n",
            "Requirement already satisfied: typing-extensions in /usr/local/lib/python3.10/dist-packages (from torch>=1.8.0->ultralytics==8.1.5) (4.5.0)\n",
            "Requirement already satisfied: sympy in /usr/local/lib/python3.10/dist-packages (from torch>=1.8.0->ultralytics==8.1.5) (1.12)\n",
            "Requirement already satisfied: networkx in /usr/local/lib/python3.10/dist-packages (from torch>=1.8.0->ultralytics==8.1.5) (3.2.1)\n",
            "Requirement already satisfied: jinja2 in /usr/local/lib/python3.10/dist-packages (from torch>=1.8.0->ultralytics==8.1.5) (3.1.3)\n",
            "Requirement already satisfied: fsspec in /usr/local/lib/python3.10/dist-packages (from torch>=1.8.0->ultralytics==8.1.5) (2023.6.0)\n",
            "Requirement already satisfied: triton==2.1.0 in /usr/local/lib/python3.10/dist-packages (from torch>=1.8.0->ultralytics==8.1.5) (2.1.0)\n",
            "Requirement already satisfied: six>=1.5 in /usr/local/lib/python3.10/dist-packages (from python-dateutil>=2.7->matplotlib>=3.3.0->ultralytics==8.1.5) (1.16.0)\n",
            "Requirement already satisfied: MarkupSafe>=2.0 in /usr/local/lib/python3.10/dist-packages (from jinja2->torch>=1.8.0->ultralytics==8.1.5) (2.1.3)\n",
            "Requirement already satisfied: mpmath>=0.19 in /usr/local/lib/python3.10/dist-packages (from sympy->torch>=1.8.0->ultralytics==8.1.5) (1.3.0)\n",
            "Building wheels for collected packages: ultralytics\n",
            "  Building wheel for ultralytics (pyproject.toml) ... \u001b[?25l\u001b[?25hdone\n",
            "  Created wheel for ultralytics: filename=ultralytics-8.1.5-py3-none-any.whl size=702765 sha256=bbb1b78ffd2e66b98bb37136a9d14a1e1306d4102825cc5962e65229102d2840\n",
            "  Stored in directory: /tmp/pip-ephem-wheel-cache-544nf3hh/wheels/60/db/e5/6abbdd13b4e3d5e2fdcd87690cd8738f842eeb37142fdccb5b\n",
            "Successfully built ultralytics\n",
            "Installing collected packages: thop, ultralytics\n",
            "Successfully installed thop-0.1.1.post2209072238 ultralytics-8.1.5\n"
          ]
        }
      ]
    },
    {
      "cell_type": "code",
      "source": [
        "from ultralytics import YOLO\n",
        "import cv2"
      ],
      "metadata": {
        "id": "rC9TFdk8o7E5"
      },
      "execution_count": 1,
      "outputs": []
    },
    {
      "cell_type": "code",
      "source": [
        "model = YOLO('yolov8x-seg.pt')"
      ],
      "metadata": {
        "id": "WzBWp1WSzS82"
      },
      "execution_count": 3,
      "outputs": []
    },
    {
      "cell_type": "markdown",
      "source": [
        "# ***Model only for Cup, Tv and Cell Phone Objects***"
      ],
      "metadata": {
        "id": "7_aizk7fdsUw"
      }
    },
    {
      "cell_type": "code",
      "source": [
        "results = model.track(source=\"/content/drive/MyDrive/Test_sources/Sources/Individual Clips/TechnicalSampleForTest00000000.mov\", classes=[41,62,67], show=True, save=True)"
      ],
      "metadata": {
        "colab": {
          "base_uri": "https://localhost:8080/"
        },
        "id": "bZVlnNG00TIg",
        "outputId": "3e82c76d-fb4e-4d39-f020-9a5e08284528"
      },
      "execution_count": 4,
      "outputs": [
        {
          "output_type": "stream",
          "name": "stdout",
          "text": [
            "WARNING ⚠️ Environment does not support cv2.imshow() or PIL Image.show()\n",
            "\n",
            "\n",
            "\n",
            "WARNING ⚠️ inference results will accumulate in RAM unless `stream=True` is passed, causing potential out-of-memory\n",
            "errors for large sources or long-running streams and videos. See https://docs.ultralytics.com/modes/predict/ for help.\n",
            "\n",
            "Example:\n",
            "    results = model(source=..., stream=True)  # generator of Results objects\n",
            "    for r in results:\n",
            "        boxes = r.boxes  # Boxes object for bbox outputs\n",
            "        masks = r.masks  # Masks object for segment masks outputs\n",
            "        probs = r.probs  # Class probabilities for classification outputs\n",
            "\n",
            "video 1/1 (1/168) /content/drive/MyDrive/Test_sources/Sources/Individual Clips/TechnicalSampleForTest00000000.mov: 384x640 1 cell phone, 4242.6ms\n",
            "video 1/1 (2/168) /content/drive/MyDrive/Test_sources/Sources/Individual Clips/TechnicalSampleForTest00000000.mov: 384x640 1 cell phone, 3735.4ms\n",
            "video 1/1 (3/168) /content/drive/MyDrive/Test_sources/Sources/Individual Clips/TechnicalSampleForTest00000000.mov: 384x640 1 cell phone, 3389.9ms\n",
            "video 1/1 (4/168) /content/drive/MyDrive/Test_sources/Sources/Individual Clips/TechnicalSampleForTest00000000.mov: 384x640 1 cell phone, 4510.7ms\n",
            "video 1/1 (5/168) /content/drive/MyDrive/Test_sources/Sources/Individual Clips/TechnicalSampleForTest00000000.mov: 384x640 1 cell phone, 4052.2ms\n",
            "video 1/1 (6/168) /content/drive/MyDrive/Test_sources/Sources/Individual Clips/TechnicalSampleForTest00000000.mov: 384x640 1 cell phone, 3400.1ms\n",
            "video 1/1 (7/168) /content/drive/MyDrive/Test_sources/Sources/Individual Clips/TechnicalSampleForTest00000000.mov: 384x640 1 cell phone, 3407.7ms\n",
            "video 1/1 (8/168) /content/drive/MyDrive/Test_sources/Sources/Individual Clips/TechnicalSampleForTest00000000.mov: 384x640 1 cell phone, 5187.5ms\n",
            "video 1/1 (9/168) /content/drive/MyDrive/Test_sources/Sources/Individual Clips/TechnicalSampleForTest00000000.mov: 384x640 1 cell phone, 3338.1ms\n",
            "video 1/1 (10/168) /content/drive/MyDrive/Test_sources/Sources/Individual Clips/TechnicalSampleForTest00000000.mov: 384x640 (no detections), 3393.4ms\n",
            "video 1/1 (11/168) /content/drive/MyDrive/Test_sources/Sources/Individual Clips/TechnicalSampleForTest00000000.mov: 384x640 (no detections), 4651.3ms\n",
            "video 1/1 (12/168) /content/drive/MyDrive/Test_sources/Sources/Individual Clips/TechnicalSampleForTest00000000.mov: 384x640 (no detections), 3329.3ms\n",
            "video 1/1 (13/168) /content/drive/MyDrive/Test_sources/Sources/Individual Clips/TechnicalSampleForTest00000000.mov: 384x640 (no detections), 3326.8ms\n",
            "video 1/1 (14/168) /content/drive/MyDrive/Test_sources/Sources/Individual Clips/TechnicalSampleForTest00000000.mov: 384x640 1 cup, 3631.1ms\n",
            "video 1/1 (15/168) /content/drive/MyDrive/Test_sources/Sources/Individual Clips/TechnicalSampleForTest00000000.mov: 384x640 (no detections), 4307.9ms\n",
            "video 1/1 (16/168) /content/drive/MyDrive/Test_sources/Sources/Individual Clips/TechnicalSampleForTest00000000.mov: 384x640 (no detections), 3382.1ms\n",
            "video 1/1 (17/168) /content/drive/MyDrive/Test_sources/Sources/Individual Clips/TechnicalSampleForTest00000000.mov: 384x640 (no detections), 3349.8ms\n",
            "video 1/1 (18/168) /content/drive/MyDrive/Test_sources/Sources/Individual Clips/TechnicalSampleForTest00000000.mov: 384x640 (no detections), 4788.3ms\n",
            "video 1/1 (19/168) /content/drive/MyDrive/Test_sources/Sources/Individual Clips/TechnicalSampleForTest00000000.mov: 384x640 (no detections), 3408.6ms\n",
            "video 1/1 (20/168) /content/drive/MyDrive/Test_sources/Sources/Individual Clips/TechnicalSampleForTest00000000.mov: 384x640 (no detections), 3422.8ms\n",
            "video 1/1 (21/168) /content/drive/MyDrive/Test_sources/Sources/Individual Clips/TechnicalSampleForTest00000000.mov: 384x640 1 cup, 2 cell phones, 3818.2ms\n",
            "video 1/1 (22/168) /content/drive/MyDrive/Test_sources/Sources/Individual Clips/TechnicalSampleForTest00000000.mov: 384x640 1 cup, 4040.7ms\n",
            "video 1/1 (23/168) /content/drive/MyDrive/Test_sources/Sources/Individual Clips/TechnicalSampleForTest00000000.mov: 384x640 1 cup, 1 cell phone, 3384.0ms\n",
            "video 1/1 (24/168) /content/drive/MyDrive/Test_sources/Sources/Individual Clips/TechnicalSampleForTest00000000.mov: 384x640 1 cup, 1 cell phone, 3358.8ms\n",
            "video 1/1 (25/168) /content/drive/MyDrive/Test_sources/Sources/Individual Clips/TechnicalSampleForTest00000000.mov: 384x640 1 cup, 1 cell phone, 4710.7ms\n",
            "video 1/1 (26/168) /content/drive/MyDrive/Test_sources/Sources/Individual Clips/TechnicalSampleForTest00000000.mov: 384x640 1 cup, 1 cell phone, 3361.0ms\n",
            "video 1/1 (27/168) /content/drive/MyDrive/Test_sources/Sources/Individual Clips/TechnicalSampleForTest00000000.mov: 384x640 1 cup, 1 cell phone, 3371.5ms\n",
            "video 1/1 (28/168) /content/drive/MyDrive/Test_sources/Sources/Individual Clips/TechnicalSampleForTest00000000.mov: 384x640 1 cup, 1 cell phone, 4403.5ms\n",
            "video 1/1 (29/168) /content/drive/MyDrive/Test_sources/Sources/Individual Clips/TechnicalSampleForTest00000000.mov: 384x640 1 cup, 1 cell phone, 3532.2ms\n",
            "video 1/1 (30/168) /content/drive/MyDrive/Test_sources/Sources/Individual Clips/TechnicalSampleForTest00000000.mov: 384x640 1 cup, 1 cell phone, 3396.2ms\n",
            "video 1/1 (31/168) /content/drive/MyDrive/Test_sources/Sources/Individual Clips/TechnicalSampleForTest00000000.mov: 384x640 1 cup, 1 cell phone, 3728.9ms\n",
            "video 1/1 (32/168) /content/drive/MyDrive/Test_sources/Sources/Individual Clips/TechnicalSampleForTest00000000.mov: 384x640 1 cup, 1 cell phone, 4249.9ms\n",
            "video 1/1 (33/168) /content/drive/MyDrive/Test_sources/Sources/Individual Clips/TechnicalSampleForTest00000000.mov: 384x640 2 cups, 1 cell phone, 3350.5ms\n",
            "video 1/1 (34/168) /content/drive/MyDrive/Test_sources/Sources/Individual Clips/TechnicalSampleForTest00000000.mov: 384x640 2 cups, 1 cell phone, 3435.1ms\n",
            "video 1/1 (35/168) /content/drive/MyDrive/Test_sources/Sources/Individual Clips/TechnicalSampleForTest00000000.mov: 384x640 2 cups, 1 cell phone, 4774.2ms\n",
            "video 1/1 (36/168) /content/drive/MyDrive/Test_sources/Sources/Individual Clips/TechnicalSampleForTest00000000.mov: 384x640 2 cups, 1 cell phone, 3443.1ms\n",
            "video 1/1 (37/168) /content/drive/MyDrive/Test_sources/Sources/Individual Clips/TechnicalSampleForTest00000000.mov: 384x640 2 cups, 2 cell phones, 3392.1ms\n",
            "video 1/1 (38/168) /content/drive/MyDrive/Test_sources/Sources/Individual Clips/TechnicalSampleForTest00000000.mov: 384x640 2 cups, 2 cell phones, 4461.5ms\n",
            "video 1/1 (39/168) /content/drive/MyDrive/Test_sources/Sources/Individual Clips/TechnicalSampleForTest00000000.mov: 384x640 2 cups, 2 cell phones, 3478.5ms\n",
            "video 1/1 (40/168) /content/drive/MyDrive/Test_sources/Sources/Individual Clips/TechnicalSampleForTest00000000.mov: 384x640 2 cups, 2 cell phones, 3372.7ms\n",
            "video 1/1 (41/168) /content/drive/MyDrive/Test_sources/Sources/Individual Clips/TechnicalSampleForTest00000000.mov: 384x640 2 cups, 2 cell phones, 3732.4ms\n",
            "video 1/1 (42/168) /content/drive/MyDrive/Test_sources/Sources/Individual Clips/TechnicalSampleForTest00000000.mov: 384x640 2 cups, 2 cell phones, 4230.5ms\n",
            "video 1/1 (43/168) /content/drive/MyDrive/Test_sources/Sources/Individual Clips/TechnicalSampleForTest00000000.mov: 384x640 2 cups, 2 cell phones, 3458.2ms\n",
            "video 1/1 (44/168) /content/drive/MyDrive/Test_sources/Sources/Individual Clips/TechnicalSampleForTest00000000.mov: 384x640 2 cups, 2 cell phones, 3382.6ms\n",
            "video 1/1 (45/168) /content/drive/MyDrive/Test_sources/Sources/Individual Clips/TechnicalSampleForTest00000000.mov: 384x640 2 cups, 2 cell phones, 4792.8ms\n",
            "video 1/1 (46/168) /content/drive/MyDrive/Test_sources/Sources/Individual Clips/TechnicalSampleForTest00000000.mov: 384x640 2 cups, 2 cell phones, 4709.7ms\n",
            "video 1/1 (47/168) /content/drive/MyDrive/Test_sources/Sources/Individual Clips/TechnicalSampleForTest00000000.mov: 384x640 2 cups, 2 cell phones, 3916.5ms\n",
            "video 1/1 (48/168) /content/drive/MyDrive/Test_sources/Sources/Individual Clips/TechnicalSampleForTest00000000.mov: 384x640 2 cups, 2 cell phones, 4357.8ms\n",
            "video 1/1 (49/168) /content/drive/MyDrive/Test_sources/Sources/Individual Clips/TechnicalSampleForTest00000000.mov: 384x640 2 cups, 2 cell phones, 3502.7ms\n",
            "video 1/1 (50/168) /content/drive/MyDrive/Test_sources/Sources/Individual Clips/TechnicalSampleForTest00000000.mov: 384x640 2 cups, 2 cell phones, 3492.7ms\n",
            "video 1/1 (51/168) /content/drive/MyDrive/Test_sources/Sources/Individual Clips/TechnicalSampleForTest00000000.mov: 384x640 2 cups, 2 cell phones, 4805.9ms\n",
            "video 1/1 (52/168) /content/drive/MyDrive/Test_sources/Sources/Individual Clips/TechnicalSampleForTest00000000.mov: 384x640 2 cups, 2 cell phones, 3434.4ms\n",
            "video 1/1 (53/168) /content/drive/MyDrive/Test_sources/Sources/Individual Clips/TechnicalSampleForTest00000000.mov: 384x640 2 cups, 2 cell phones, 3463.2ms\n",
            "video 1/1 (54/168) /content/drive/MyDrive/Test_sources/Sources/Individual Clips/TechnicalSampleForTest00000000.mov: 384x640 2 cups, 2 cell phones, 4607.9ms\n",
            "video 1/1 (55/168) /content/drive/MyDrive/Test_sources/Sources/Individual Clips/TechnicalSampleForTest00000000.mov: 384x640 2 cups, 2 cell phones, 3402.5ms\n",
            "video 1/1 (56/168) /content/drive/MyDrive/Test_sources/Sources/Individual Clips/TechnicalSampleForTest00000000.mov: 384x640 2 cups, 2 cell phones, 3419.2ms\n",
            "video 1/1 (57/168) /content/drive/MyDrive/Test_sources/Sources/Individual Clips/TechnicalSampleForTest00000000.mov: 384x640 2 cups, 2 cell phones, 4046.8ms\n",
            "video 1/1 (58/168) /content/drive/MyDrive/Test_sources/Sources/Individual Clips/TechnicalSampleForTest00000000.mov: 384x640 2 cups, 2 cell phones, 3989.9ms\n",
            "video 1/1 (59/168) /content/drive/MyDrive/Test_sources/Sources/Individual Clips/TechnicalSampleForTest00000000.mov: 384x640 2 cups, 2 cell phones, 3358.7ms\n",
            "video 1/1 (60/168) /content/drive/MyDrive/Test_sources/Sources/Individual Clips/TechnicalSampleForTest00000000.mov: 384x640 2 cups, 2 cell phones, 3407.6ms\n",
            "video 1/1 (61/168) /content/drive/MyDrive/Test_sources/Sources/Individual Clips/TechnicalSampleForTest00000000.mov: 384x640 2 cups, 2 cell phones, 4600.1ms\n",
            "video 1/1 (62/168) /content/drive/MyDrive/Test_sources/Sources/Individual Clips/TechnicalSampleForTest00000000.mov: 384x640 2 cups, 2 cell phones, 3485.9ms\n",
            "video 1/1 (63/168) /content/drive/MyDrive/Test_sources/Sources/Individual Clips/TechnicalSampleForTest00000000.mov: 384x640 2 cups, 2 cell phones, 3379.5ms\n",
            "video 1/1 (64/168) /content/drive/MyDrive/Test_sources/Sources/Individual Clips/TechnicalSampleForTest00000000.mov: 384x640 2 cups, 2 cell phones, 4771.6ms\n",
            "video 1/1 (65/168) /content/drive/MyDrive/Test_sources/Sources/Individual Clips/TechnicalSampleForTest00000000.mov: 384x640 2 cups, 2 cell phones, 3407.1ms\n",
            "video 1/1 (66/168) /content/drive/MyDrive/Test_sources/Sources/Individual Clips/TechnicalSampleForTest00000000.mov: 384x640 2 cups, 2 cell phones, 3444.6ms\n",
            "video 1/1 (67/168) /content/drive/MyDrive/Test_sources/Sources/Individual Clips/TechnicalSampleForTest00000000.mov: 384x640 2 cups, 2 cell phones, 4231.9ms\n",
            "video 1/1 (68/168) /content/drive/MyDrive/Test_sources/Sources/Individual Clips/TechnicalSampleForTest00000000.mov: 384x640 2 cups, 2 cell phones, 3682.2ms\n",
            "video 1/1 (69/168) /content/drive/MyDrive/Test_sources/Sources/Individual Clips/TechnicalSampleForTest00000000.mov: 384x640 2 cups, 2 cell phones, 3438.7ms\n",
            "video 1/1 (70/168) /content/drive/MyDrive/Test_sources/Sources/Individual Clips/TechnicalSampleForTest00000000.mov: 384x640 2 cups, 2 cell phones, 3666.1ms\n",
            "video 1/1 (71/168) /content/drive/MyDrive/Test_sources/Sources/Individual Clips/TechnicalSampleForTest00000000.mov: 384x640 2 cups, 1 cell phone, 4300.9ms\n",
            "video 1/1 (72/168) /content/drive/MyDrive/Test_sources/Sources/Individual Clips/TechnicalSampleForTest00000000.mov: 384x640 2 cups, 1 cell phone, 3422.8ms\n",
            "video 1/1 (73/168) /content/drive/MyDrive/Test_sources/Sources/Individual Clips/TechnicalSampleForTest00000000.mov: 384x640 2 cups, 1 cell phone, 3417.3ms\n",
            "video 1/1 (74/168) /content/drive/MyDrive/Test_sources/Sources/Individual Clips/TechnicalSampleForTest00000000.mov: 384x640 2 cups, 1 cell phone, 4829.9ms\n",
            "video 1/1 (75/168) /content/drive/MyDrive/Test_sources/Sources/Individual Clips/TechnicalSampleForTest00000000.mov: 384x640 2 cups, 1 cell phone, 3392.5ms\n",
            "video 1/1 (76/168) /content/drive/MyDrive/Test_sources/Sources/Individual Clips/TechnicalSampleForTest00000000.mov: 384x640 2 cups, 1 cell phone, 3463.3ms\n",
            "video 1/1 (77/168) /content/drive/MyDrive/Test_sources/Sources/Individual Clips/TechnicalSampleForTest00000000.mov: 384x640 2 cups, 1 cell phone, 4598.7ms\n",
            "video 1/1 (78/168) /content/drive/MyDrive/Test_sources/Sources/Individual Clips/TechnicalSampleForTest00000000.mov: 384x640 2 cups, 1 cell phone, 3421.4ms\n",
            "video 1/1 (79/168) /content/drive/MyDrive/Test_sources/Sources/Individual Clips/TechnicalSampleForTest00000000.mov: 384x640 2 cups, 1 cell phone, 3460.0ms\n",
            "video 1/1 (80/168) /content/drive/MyDrive/Test_sources/Sources/Individual Clips/TechnicalSampleForTest00000000.mov: 384x640 2 cups, 1 cell phone, 3919.6ms\n",
            "video 1/1 (81/168) /content/drive/MyDrive/Test_sources/Sources/Individual Clips/TechnicalSampleForTest00000000.mov: 384x640 2 cups, 1 cell phone, 4078.8ms\n",
            "video 1/1 (82/168) /content/drive/MyDrive/Test_sources/Sources/Individual Clips/TechnicalSampleForTest00000000.mov: 384x640 2 cups, 1 cell phone, 3429.2ms\n",
            "video 1/1 (83/168) /content/drive/MyDrive/Test_sources/Sources/Individual Clips/TechnicalSampleForTest00000000.mov: 384x640 2 cups, 1 cell phone, 3424.3ms\n",
            "video 1/1 (84/168) /content/drive/MyDrive/Test_sources/Sources/Individual Clips/TechnicalSampleForTest00000000.mov: 384x640 2 cups, 1 cell phone, 4744.2ms\n",
            "video 1/1 (85/168) /content/drive/MyDrive/Test_sources/Sources/Individual Clips/TechnicalSampleForTest00000000.mov: 384x640 2 cups, 1 cell phone, 3421.9ms\n",
            "video 1/1 (86/168) /content/drive/MyDrive/Test_sources/Sources/Individual Clips/TechnicalSampleForTest00000000.mov: 384x640 2 cups, 1 cell phone, 3378.1ms\n",
            "video 1/1 (87/168) /content/drive/MyDrive/Test_sources/Sources/Individual Clips/TechnicalSampleForTest00000000.mov: 384x640 2 cups, 1 cell phone, 4646.2ms\n",
            "video 1/1 (88/168) /content/drive/MyDrive/Test_sources/Sources/Individual Clips/TechnicalSampleForTest00000000.mov: 384x640 2 cups, 1 cell phone, 3422.2ms\n",
            "video 1/1 (89/168) /content/drive/MyDrive/Test_sources/Sources/Individual Clips/TechnicalSampleForTest00000000.mov: 384x640 2 cups, 1 cell phone, 3455.1ms\n",
            "video 1/1 (90/168) /content/drive/MyDrive/Test_sources/Sources/Individual Clips/TechnicalSampleForTest00000000.mov: 384x640 2 cups, 1 cell phone, 3944.0ms\n",
            "video 1/1 (91/168) /content/drive/MyDrive/Test_sources/Sources/Individual Clips/TechnicalSampleForTest00000000.mov: 384x640 2 cups, 1 cell phone, 4034.2ms\n",
            "video 1/1 (92/168) /content/drive/MyDrive/Test_sources/Sources/Individual Clips/TechnicalSampleForTest00000000.mov: 384x640 2 cups, 1 cell phone, 3464.0ms\n",
            "video 1/1 (93/168) /content/drive/MyDrive/Test_sources/Sources/Individual Clips/TechnicalSampleForTest00000000.mov: 384x640 2 cups, 1 cell phone, 3440.6ms\n",
            "video 1/1 (94/168) /content/drive/MyDrive/Test_sources/Sources/Individual Clips/TechnicalSampleForTest00000000.mov: 384x640 2 cups, 1 cell phone, 4665.6ms\n",
            "video 1/1 (95/168) /content/drive/MyDrive/Test_sources/Sources/Individual Clips/TechnicalSampleForTest00000000.mov: 384x640 2 cups, 1 cell phone, 3412.3ms\n",
            "video 1/1 (96/168) /content/drive/MyDrive/Test_sources/Sources/Individual Clips/TechnicalSampleForTest00000000.mov: 384x640 2 cups, 1 cell phone, 3450.6ms\n",
            "video 1/1 (97/168) /content/drive/MyDrive/Test_sources/Sources/Individual Clips/TechnicalSampleForTest00000000.mov: 384x640 2 cups, 1 cell phone, 4795.5ms\n",
            "video 1/1 (98/168) /content/drive/MyDrive/Test_sources/Sources/Individual Clips/TechnicalSampleForTest00000000.mov: 384x640 2 cups, 1 cell phone, 3402.0ms\n",
            "video 1/1 (99/168) /content/drive/MyDrive/Test_sources/Sources/Individual Clips/TechnicalSampleForTest00000000.mov: 384x640 2 cups, 1 cell phone, 3385.6ms\n",
            "video 1/1 (100/168) /content/drive/MyDrive/Test_sources/Sources/Individual Clips/TechnicalSampleForTest00000000.mov: 384x640 2 cups, 1 cell phone, 4156.2ms\n",
            "video 1/1 (101/168) /content/drive/MyDrive/Test_sources/Sources/Individual Clips/TechnicalSampleForTest00000000.mov: 384x640 2 cups, 1 cell phone, 3739.1ms\n",
            "video 1/1 (102/168) /content/drive/MyDrive/Test_sources/Sources/Individual Clips/TechnicalSampleForTest00000000.mov: 384x640 2 cups, 1 cell phone, 3459.7ms\n",
            "video 1/1 (103/168) /content/drive/MyDrive/Test_sources/Sources/Individual Clips/TechnicalSampleForTest00000000.mov: 384x640 2 cups, 1 cell phone, 3637.2ms\n",
            "video 1/1 (104/168) /content/drive/MyDrive/Test_sources/Sources/Individual Clips/TechnicalSampleForTest00000000.mov: 384x640 2 cups, 1 cell phone, 4343.1ms\n",
            "video 1/1 (105/168) /content/drive/MyDrive/Test_sources/Sources/Individual Clips/TechnicalSampleForTest00000000.mov: 384x640 2 cups, 1 cell phone, 3455.2ms\n",
            "video 1/1 (106/168) /content/drive/MyDrive/Test_sources/Sources/Individual Clips/TechnicalSampleForTest00000000.mov: 384x640 2 cups, 1 cell phone, 3481.5ms\n",
            "video 1/1 (108/168) /content/drive/MyDrive/Test_sources/Sources/Individual Clips/TechnicalSampleForTest00000000.mov: 384x640 2 cups, 1 cell phone, 3412.1ms\n",
            "video 1/1 (109/168) /content/drive/MyDrive/Test_sources/Sources/Individual Clips/TechnicalSampleForTest00000000.mov: 384x640 2 cups, 1 cell phone, 3393.7ms\n",
            "video 1/1 (110/168) /content/drive/MyDrive/Test_sources/Sources/Individual Clips/TechnicalSampleForTest00000000.mov: 384x640 2 cups, 1 cell phone, 4433.7ms\n",
            "video 1/1 (111/168) /content/drive/MyDrive/Test_sources/Sources/Individual Clips/TechnicalSampleForTest00000000.mov: 384x640 2 cups, 1 cell phone, 3594.5ms\n",
            "video 1/1 (112/168) /content/drive/MyDrive/Test_sources/Sources/Individual Clips/TechnicalSampleForTest00000000.mov: 384x640 2 cups, 1 cell phone, 3405.0ms\n",
            "video 1/1 (113/168) /content/drive/MyDrive/Test_sources/Sources/Individual Clips/TechnicalSampleForTest00000000.mov: 384x640 2 cups, 1 cell phone, 3875.1ms\n",
            "video 1/1 (114/168) /content/drive/MyDrive/Test_sources/Sources/Individual Clips/TechnicalSampleForTest00000000.mov: 384x640 2 cups, 1 cell phone, 4158.1ms\n",
            "video 1/1 (115/168) /content/drive/MyDrive/Test_sources/Sources/Individual Clips/TechnicalSampleForTest00000000.mov: 384x640 2 cups, 1 cell phone, 3381.6ms\n",
            "video 1/1 (116/168) /content/drive/MyDrive/Test_sources/Sources/Individual Clips/TechnicalSampleForTest00000000.mov: 384x640 2 cups, 1 cell phone, 3480.6ms\n",
            "video 1/1 (117/168) /content/drive/MyDrive/Test_sources/Sources/Individual Clips/TechnicalSampleForTest00000000.mov: 384x640 2 cups, 1 cell phone, 4772.7ms\n",
            "video 1/1 (118/168) /content/drive/MyDrive/Test_sources/Sources/Individual Clips/TechnicalSampleForTest00000000.mov: 384x640 2 cups, 1 cell phone, 3372.0ms\n",
            "video 1/1 (119/168) /content/drive/MyDrive/Test_sources/Sources/Individual Clips/TechnicalSampleForTest00000000.mov: 384x640 2 cups, 2 cell phones, 3409.4ms\n",
            "video 1/1 (120/168) /content/drive/MyDrive/Test_sources/Sources/Individual Clips/TechnicalSampleForTest00000000.mov: 384x640 2 cups, 2 cell phones, 4815.0ms\n",
            "video 1/1 (121/168) /content/drive/MyDrive/Test_sources/Sources/Individual Clips/TechnicalSampleForTest00000000.mov: 384x640 2 cups, 2 cell phones, 3444.0ms\n",
            "video 1/1 (122/168) /content/drive/MyDrive/Test_sources/Sources/Individual Clips/TechnicalSampleForTest00000000.mov: 384x640 2 cups, 2 cell phones, 3413.9ms\n",
            "video 1/1 (123/168) /content/drive/MyDrive/Test_sources/Sources/Individual Clips/TechnicalSampleForTest00000000.mov: 384x640 2 cups, 2 cell phones, 4175.8ms\n",
            "video 1/1 (124/168) /content/drive/MyDrive/Test_sources/Sources/Individual Clips/TechnicalSampleForTest00000000.mov: 384x640 2 cups, 2 cell phones, 3822.7ms\n",
            "video 1/1 (125/168) /content/drive/MyDrive/Test_sources/Sources/Individual Clips/TechnicalSampleForTest00000000.mov: 384x640 2 cups, 2 cell phones, 3451.0ms\n",
            "video 1/1 (126/168) /content/drive/MyDrive/Test_sources/Sources/Individual Clips/TechnicalSampleForTest00000000.mov: 384x640 2 cups, 2 cell phones, 3446.5ms\n",
            "video 1/1 (127/168) /content/drive/MyDrive/Test_sources/Sources/Individual Clips/TechnicalSampleForTest00000000.mov: 384x640 2 cups, 2 cell phones, 4497.4ms\n",
            "video 1/1 (128/168) /content/drive/MyDrive/Test_sources/Sources/Individual Clips/TechnicalSampleForTest00000000.mov: 384x640 2 cups, 2 cell phones, 3420.0ms\n",
            "video 1/1 (129/168) /content/drive/MyDrive/Test_sources/Sources/Individual Clips/TechnicalSampleForTest00000000.mov: 384x640 2 cups, 2 cell phones, 3376.0ms\n",
            "video 1/1 (130/168) /content/drive/MyDrive/Test_sources/Sources/Individual Clips/TechnicalSampleForTest00000000.mov: 384x640 2 cups, 2 cell phones, 4773.1ms\n",
            "video 1/1 (131/168) /content/drive/MyDrive/Test_sources/Sources/Individual Clips/TechnicalSampleForTest00000000.mov: 384x640 2 cups, 2 cell phones, 3551.5ms\n",
            "video 1/1 (132/168) /content/drive/MyDrive/Test_sources/Sources/Individual Clips/TechnicalSampleForTest00000000.mov: 384x640 2 cups, 2 cell phones, 3503.2ms\n",
            "video 1/1 (133/168) /content/drive/MyDrive/Test_sources/Sources/Individual Clips/TechnicalSampleForTest00000000.mov: 384x640 2 cups, 2 cell phones, 4489.8ms\n",
            "video 1/1 (134/168) /content/drive/MyDrive/Test_sources/Sources/Individual Clips/TechnicalSampleForTest00000000.mov: 384x640 2 cups, 2 cell phones, 3533.7ms\n",
            "video 1/1 (135/168) /content/drive/MyDrive/Test_sources/Sources/Individual Clips/TechnicalSampleForTest00000000.mov: 384x640 2 cups, 2 cell phones, 3421.8ms\n",
            "video 1/1 (136/168) /content/drive/MyDrive/Test_sources/Sources/Individual Clips/TechnicalSampleForTest00000000.mov: 384x640 2 cups, 2 cell phones, 3840.9ms\n",
            "video 1/1 (137/168) /content/drive/MyDrive/Test_sources/Sources/Individual Clips/TechnicalSampleForTest00000000.mov: 384x640 2 cups, 1 cell phone, 4206.9ms\n",
            "video 1/1 (138/168) /content/drive/MyDrive/Test_sources/Sources/Individual Clips/TechnicalSampleForTest00000000.mov: 384x640 2 cups, 1 cell phone, 3467.5ms\n",
            "video 1/1 (139/168) /content/drive/MyDrive/Test_sources/Sources/Individual Clips/TechnicalSampleForTest00000000.mov: 384x640 2 cups, 1 cell phone, 3386.6ms\n",
            "video 1/1 (140/168) /content/drive/MyDrive/Test_sources/Sources/Individual Clips/TechnicalSampleForTest00000000.mov: 384x640 2 cups, 1 cell phone, 4762.5ms\n",
            "video 1/1 (141/168) /content/drive/MyDrive/Test_sources/Sources/Individual Clips/TechnicalSampleForTest00000000.mov: 384x640 2 cups, 1 cell phone, 3374.2ms\n",
            "video 1/1 (142/168) /content/drive/MyDrive/Test_sources/Sources/Individual Clips/TechnicalSampleForTest00000000.mov: 384x640 2 cups, 1 cell phone, 3449.5ms\n",
            "video 1/1 (143/168) /content/drive/MyDrive/Test_sources/Sources/Individual Clips/TechnicalSampleForTest00000000.mov: 384x640 2 cups, 1 cell phone, 4669.8ms\n",
            "video 1/1 (144/168) /content/drive/MyDrive/Test_sources/Sources/Individual Clips/TechnicalSampleForTest00000000.mov: 384x640 2 cups, 1 cell phone, 3403.9ms\n",
            "video 1/1 (145/168) /content/drive/MyDrive/Test_sources/Sources/Individual Clips/TechnicalSampleForTest00000000.mov: 384x640 2 cups, 1 cell phone, 3397.0ms\n",
            "video 1/1 (146/168) /content/drive/MyDrive/Test_sources/Sources/Individual Clips/TechnicalSampleForTest00000000.mov: 384x640 2 cups, 1 cell phone, 3915.3ms\n",
            "video 1/1 (147/168) /content/drive/MyDrive/Test_sources/Sources/Individual Clips/TechnicalSampleForTest00000000.mov: 384x640 2 cups, 1 cell phone, 3944.9ms\n",
            "video 1/1 (148/168) /content/drive/MyDrive/Test_sources/Sources/Individual Clips/TechnicalSampleForTest00000000.mov: 384x640 2 cups, 1 cell phone, 3442.6ms\n",
            "video 1/1 (149/168) /content/drive/MyDrive/Test_sources/Sources/Individual Clips/TechnicalSampleForTest00000000.mov: 384x640 2 cups, 1 cell phone, 3430.3ms\n",
            "video 1/1 (150/168) /content/drive/MyDrive/Test_sources/Sources/Individual Clips/TechnicalSampleForTest00000000.mov: 384x640 2 cups, 1 cell phone, 4740.0ms\n",
            "video 1/1 (151/168) /content/drive/MyDrive/Test_sources/Sources/Individual Clips/TechnicalSampleForTest00000000.mov: 384x640 2 cups, 1 cell phone, 3406.9ms\n",
            "video 1/1 (152/168) /content/drive/MyDrive/Test_sources/Sources/Individual Clips/TechnicalSampleForTest00000000.mov: 384x640 2 cups, 1 cell phone, 3438.8ms\n",
            "video 1/1 (153/168) /content/drive/MyDrive/Test_sources/Sources/Individual Clips/TechnicalSampleForTest00000000.mov: 384x640 2 cups, 1 cell phone, 4801.0ms\n",
            "video 1/1 (154/168) /content/drive/MyDrive/Test_sources/Sources/Individual Clips/TechnicalSampleForTest00000000.mov: 384x640 2 cups, 1 cell phone, 3416.4ms\n",
            "video 1/1 (155/168) /content/drive/MyDrive/Test_sources/Sources/Individual Clips/TechnicalSampleForTest00000000.mov: 384x640 2 cups, 1 cell phone, 3445.5ms\n",
            "video 1/1 (156/168) /content/drive/MyDrive/Test_sources/Sources/Individual Clips/TechnicalSampleForTest00000000.mov: 384x640 2 cups, 1 cell phone, 4098.9ms\n",
            "video 1/1 (157/168) /content/drive/MyDrive/Test_sources/Sources/Individual Clips/TechnicalSampleForTest00000000.mov: 384x640 2 cups, 1 cell phone, 3901.6ms\n",
            "video 1/1 (158/168) /content/drive/MyDrive/Test_sources/Sources/Individual Clips/TechnicalSampleForTest00000000.mov: 384x640 2 cups, 1 cell phone, 3471.5ms\n",
            "video 1/1 (159/168) /content/drive/MyDrive/Test_sources/Sources/Individual Clips/TechnicalSampleForTest00000000.mov: 384x640 2 cups, 1 cell phone, 3446.9ms\n",
            "video 1/1 (160/168) /content/drive/MyDrive/Test_sources/Sources/Individual Clips/TechnicalSampleForTest00000000.mov: 384x640 2 cups, 1 cell phone, 4505.1ms\n",
            "video 1/1 (161/168) /content/drive/MyDrive/Test_sources/Sources/Individual Clips/TechnicalSampleForTest00000000.mov: 384x640 2 cups, 1 cell phone, 3389.7ms\n",
            "video 1/1 (162/168) /content/drive/MyDrive/Test_sources/Sources/Individual Clips/TechnicalSampleForTest00000000.mov: 384x640 2 cups, 1 cell phone, 3401.5ms\n",
            "video 1/1 (163/168) /content/drive/MyDrive/Test_sources/Sources/Individual Clips/TechnicalSampleForTest00000000.mov: 384x640 2 cups, 1 cell phone, 4779.5ms\n",
            "video 1/1 (164/168) /content/drive/MyDrive/Test_sources/Sources/Individual Clips/TechnicalSampleForTest00000000.mov: 384x640 2 cups, 1 cell phone, 3434.2ms\n",
            "video 1/1 (165/168) /content/drive/MyDrive/Test_sources/Sources/Individual Clips/TechnicalSampleForTest00000000.mov: 384x640 2 cups, 1 cell phone, 3400.3ms\n",
            "video 1/1 (166/168) /content/drive/MyDrive/Test_sources/Sources/Individual Clips/TechnicalSampleForTest00000000.mov: 384x640 2 cups, 1 cell phone, 4229.4ms\n",
            "video 1/1 (167/168) /content/drive/MyDrive/Test_sources/Sources/Individual Clips/TechnicalSampleForTest00000000.mov: 384x640 2 cups, 1 cell phone, 3753.1ms\n",
            "video 1/1 (168/168) /content/drive/MyDrive/Test_sources/Sources/Individual Clips/TechnicalSampleForTest00000000.mov: 384x640 2 cups, 1 cell phone, 3381.2ms\n",
            "Speed: 4.8ms preprocess, 3804.5ms inference, 11.5ms postprocess per image at shape (1, 3, 384, 640)\n",
            "Results saved to \u001b[1mruns/segment/track2\u001b[0m\n"
          ]
        }
      ]
    },
    {
      "cell_type": "markdown",
      "source": [
        "# ***Result for the 0th Frame of the input video***"
      ],
      "metadata": {
        "id": "I8slggWwbqKr"
      }
    },
    {
      "cell_type": "code",
      "source": [
        "print(f\"Frame 0: Object id={results[0].boxes.cls}, confidence={results[0].boxes.conf}, File={results[0].path}\")"
      ],
      "metadata": {
        "colab": {
          "base_uri": "https://localhost:8080/"
        },
        "id": "iHz0Wup_Btr1",
        "outputId": "b616c0ac-6c2a-45ad-92ad-832e93511f06"
      },
      "execution_count": 8,
      "outputs": [
        {
          "output_type": "stream",
          "name": "stdout",
          "text": [
            "Frame 0: Object id=tensor([67.]), confidence=tensor([0.3866]), File=/content/drive/MyDrive/Test_sources/Sources/Individual Clips/TechnicalSampleForTest00000000.mov\n"
          ]
        }
      ]
    },
    {
      "cell_type": "code",
      "source": [],
      "metadata": {
        "id": "_lIsTMlIWL2d"
      },
      "execution_count": null,
      "outputs": []
    }
  ]
}