{
  "nbformat": 4,
  "nbformat_minor": 0,
  "metadata": {
    "colab": {
      "provenance": [],
      "mount_file_id": "1gRwXWSnTPGKlHNzhV5k_28jK_wvkenL4",
      "authorship_tag": "ABX9TyNiAfsLNr2XmdJBP+5QtOOi",
      "include_colab_link": true
    },
    "kernelspec": {
      "name": "python3",
      "display_name": "Python 3"
    },
    "language_info": {
      "name": "python"
    }
  },
  "cells": [
    {
      "cell_type": "markdown",
      "metadata": {
        "id": "view-in-github",
        "colab_type": "text"
      },
      "source": [
        "<a href=\"https://colab.research.google.com/github/Akhilesh-K-Yadav/Video-Based-Projects/blob/main/YOLOv8_tracking/Video_Obj_Detect_Segment_Track.ipynb\" target=\"_parent\"><img src=\"https://colab.research.google.com/assets/colab-badge.svg\" alt=\"Open In Colab\"/></a>"
      ]
    },
    {
      "cell_type": "code",
      "source": [
        "!pip install git+https://github.com/ultralytics/ultralytics.git@main"
      ],
      "metadata": {
        "colab": {
          "base_uri": "https://localhost:8080/"
        },
        "id": "WXWGU0zWzkIi",
        "outputId": "3e23342f-c49c-4913-f5e6-2ddcc63a44e0"
      },
      "execution_count": 1,
      "outputs": [
        {
          "output_type": "stream",
          "name": "stdout",
          "text": [
            "Collecting git+https://github.com/ultralytics/ultralytics.git@main\n",
            "  Cloning https://github.com/ultralytics/ultralytics.git (to revision main) to /tmp/pip-req-build-kvd5in_5\n",
            "  Running command git clone --filter=blob:none --quiet https://github.com/ultralytics/ultralytics.git /tmp/pip-req-build-kvd5in_5\n",
            "  Resolved https://github.com/ultralytics/ultralytics.git to commit c460ad28f8b21a9469f24e2a1458898c2680cee6\n",
            "  Installing build dependencies ... \u001b[?25l\u001b[?25hdone\n",
            "  Getting requirements to build wheel ... \u001b[?25l\u001b[?25hdone\n",
            "  Preparing metadata (pyproject.toml) ... \u001b[?25l\u001b[?25hdone\n",
            "Requirement already satisfied: matplotlib>=3.3.0 in /usr/local/lib/python3.10/dist-packages (from ultralytics==8.1.5) (3.7.1)\n",
            "Requirement already satisfied: numpy>=1.22.2 in /usr/local/lib/python3.10/dist-packages (from ultralytics==8.1.5) (1.23.5)\n",
            "Requirement already satisfied: opencv-python>=4.6.0 in /usr/local/lib/python3.10/dist-packages (from ultralytics==8.1.5) (4.8.0.76)\n",
            "Requirement already satisfied: pillow>=7.1.2 in /usr/local/lib/python3.10/dist-packages (from ultralytics==8.1.5) (9.4.0)\n",
            "Requirement already satisfied: pyyaml>=5.3.1 in /usr/local/lib/python3.10/dist-packages (from ultralytics==8.1.5) (6.0.1)\n",
            "Requirement already satisfied: requests>=2.23.0 in /usr/local/lib/python3.10/dist-packages (from ultralytics==8.1.5) (2.31.0)\n",
            "Requirement already satisfied: scipy>=1.4.1 in /usr/local/lib/python3.10/dist-packages (from ultralytics==8.1.5) (1.11.4)\n",
            "Requirement already satisfied: torch>=1.8.0 in /usr/local/lib/python3.10/dist-packages (from ultralytics==8.1.5) (2.1.0+cu121)\n",
            "Requirement already satisfied: torchvision>=0.9.0 in /usr/local/lib/python3.10/dist-packages (from ultralytics==8.1.5) (0.16.0+cu121)\n",
            "Requirement already satisfied: tqdm>=4.64.0 in /usr/local/lib/python3.10/dist-packages (from ultralytics==8.1.5) (4.66.1)\n",
            "Requirement already satisfied: psutil in /usr/local/lib/python3.10/dist-packages (from ultralytics==8.1.5) (5.9.5)\n",
            "Requirement already satisfied: py-cpuinfo in /usr/local/lib/python3.10/dist-packages (from ultralytics==8.1.5) (9.0.0)\n",
            "Collecting thop>=0.1.1 (from ultralytics==8.1.5)\n",
            "  Downloading thop-0.1.1.post2209072238-py3-none-any.whl (15 kB)\n",
            "Requirement already satisfied: pandas>=1.1.4 in /usr/local/lib/python3.10/dist-packages (from ultralytics==8.1.5) (1.5.3)\n",
            "Requirement already satisfied: seaborn>=0.11.0 in /usr/local/lib/python3.10/dist-packages (from ultralytics==8.1.5) (0.13.1)\n",
            "Requirement already satisfied: contourpy>=1.0.1 in /usr/local/lib/python3.10/dist-packages (from matplotlib>=3.3.0->ultralytics==8.1.5) (1.2.0)\n",
            "Requirement already satisfied: cycler>=0.10 in /usr/local/lib/python3.10/dist-packages (from matplotlib>=3.3.0->ultralytics==8.1.5) (0.12.1)\n",
            "Requirement already satisfied: fonttools>=4.22.0 in /usr/local/lib/python3.10/dist-packages (from matplotlib>=3.3.0->ultralytics==8.1.5) (4.47.2)\n",
            "Requirement already satisfied: kiwisolver>=1.0.1 in /usr/local/lib/python3.10/dist-packages (from matplotlib>=3.3.0->ultralytics==8.1.5) (1.4.5)\n",
            "Requirement already satisfied: packaging>=20.0 in /usr/local/lib/python3.10/dist-packages (from matplotlib>=3.3.0->ultralytics==8.1.5) (23.2)\n",
            "Requirement already satisfied: pyparsing>=2.3.1 in /usr/local/lib/python3.10/dist-packages (from matplotlib>=3.3.0->ultralytics==8.1.5) (3.1.1)\n",
            "Requirement already satisfied: python-dateutil>=2.7 in /usr/local/lib/python3.10/dist-packages (from matplotlib>=3.3.0->ultralytics==8.1.5) (2.8.2)\n",
            "Requirement already satisfied: pytz>=2020.1 in /usr/local/lib/python3.10/dist-packages (from pandas>=1.1.4->ultralytics==8.1.5) (2023.3.post1)\n",
            "Requirement already satisfied: charset-normalizer<4,>=2 in /usr/local/lib/python3.10/dist-packages (from requests>=2.23.0->ultralytics==8.1.5) (3.3.2)\n",
            "Requirement already satisfied: idna<4,>=2.5 in /usr/local/lib/python3.10/dist-packages (from requests>=2.23.0->ultralytics==8.1.5) (3.6)\n",
            "Requirement already satisfied: urllib3<3,>=1.21.1 in /usr/local/lib/python3.10/dist-packages (from requests>=2.23.0->ultralytics==8.1.5) (2.0.7)\n",
            "Requirement already satisfied: certifi>=2017.4.17 in /usr/local/lib/python3.10/dist-packages (from requests>=2.23.0->ultralytics==8.1.5) (2023.11.17)\n",
            "Requirement already satisfied: filelock in /usr/local/lib/python3.10/dist-packages (from torch>=1.8.0->ultralytics==8.1.5) (3.13.1)\n",
            "Requirement already satisfied: typing-extensions in /usr/local/lib/python3.10/dist-packages (from torch>=1.8.0->ultralytics==8.1.5) (4.5.0)\n",
            "Requirement already satisfied: sympy in /usr/local/lib/python3.10/dist-packages (from torch>=1.8.0->ultralytics==8.1.5) (1.12)\n",
            "Requirement already satisfied: networkx in /usr/local/lib/python3.10/dist-packages (from torch>=1.8.0->ultralytics==8.1.5) (3.2.1)\n",
            "Requirement already satisfied: jinja2 in /usr/local/lib/python3.10/dist-packages (from torch>=1.8.0->ultralytics==8.1.5) (3.1.3)\n",
            "Requirement already satisfied: fsspec in /usr/local/lib/python3.10/dist-packages (from torch>=1.8.0->ultralytics==8.1.5) (2023.6.0)\n",
            "Requirement already satisfied: triton==2.1.0 in /usr/local/lib/python3.10/dist-packages (from torch>=1.8.0->ultralytics==8.1.5) (2.1.0)\n",
            "Requirement already satisfied: six>=1.5 in /usr/local/lib/python3.10/dist-packages (from python-dateutil>=2.7->matplotlib>=3.3.0->ultralytics==8.1.5) (1.16.0)\n",
            "Requirement already satisfied: MarkupSafe>=2.0 in /usr/local/lib/python3.10/dist-packages (from jinja2->torch>=1.8.0->ultralytics==8.1.5) (2.1.4)\n",
            "Requirement already satisfied: mpmath>=0.19 in /usr/local/lib/python3.10/dist-packages (from sympy->torch>=1.8.0->ultralytics==8.1.5) (1.3.0)\n",
            "Building wheels for collected packages: ultralytics\n",
            "  Building wheel for ultralytics (pyproject.toml) ... \u001b[?25l\u001b[?25hdone\n",
            "  Created wheel for ultralytics: filename=ultralytics-8.1.5-py3-none-any.whl size=702764 sha256=ce9e11b54c6f6fed25628f0992357cf9381a390e4713ab9227db364b59bee575\n",
            "  Stored in directory: /tmp/pip-ephem-wheel-cache-mjwjeef3/wheels/60/db/e5/6abbdd13b4e3d5e2fdcd87690cd8738f842eeb37142fdccb5b\n",
            "Successfully built ultralytics\n",
            "Installing collected packages: thop, ultralytics\n",
            "Successfully installed thop-0.1.1.post2209072238 ultralytics-8.1.5\n"
          ]
        }
      ]
    },
    {
      "cell_type": "code",
      "source": [
        "coco_classes = {\n",
        "    0: 'person',\n",
        "    1: 'bicycle',\n",
        "    2: 'car',\n",
        "    3: 'motorcycle',\n",
        "    4: 'airplane',\n",
        "    5: 'bus',\n",
        "    6: 'train',\n",
        "    7: 'truck',\n",
        "    8: 'boat',\n",
        "    9: 'traffic light',\n",
        "    10: 'fire hydrant',\n",
        "    11: 'stop sign',\n",
        "    12: 'parking meter',\n",
        "    13: 'bench',\n",
        "    14: 'bird',\n",
        "    15: 'cat',\n",
        "    16: 'dog',\n",
        "    17: 'horse',\n",
        "    18: 'sheep',\n",
        "    19: 'cow',\n",
        "    20: 'elephant',\n",
        "    21: 'bear',\n",
        "    22: 'zebra',\n",
        "    23: 'giraffe',\n",
        "    24: 'backpack',\n",
        "    25: 'umbrella',\n",
        "    26: 'handbag',\n",
        "    27: 'tie',\n",
        "    28: 'suitcase',\n",
        "    29: 'frisbee',\n",
        "    30: 'skis',\n",
        "    31: 'snowboard',\n",
        "    32: 'sports ball',\n",
        "    33: 'kite',\n",
        "    34: 'baseball bat',\n",
        "    35: 'baseball glove',\n",
        "    36: 'skateboard',\n",
        "    37: 'surfboard',\n",
        "    38: 'tennis racket',\n",
        "    39: 'bottle',\n",
        "    40: 'wine glass',\n",
        "    41: 'cup',\n",
        "    42: 'fork',\n",
        "    43: 'knife',\n",
        "    44: 'spoon',\n",
        "    45: 'bowl',\n",
        "    46: 'banana',\n",
        "    47: 'apple',\n",
        "    48: 'sandwich',\n",
        "    49: 'orange',\n",
        "    50: 'broccoli',\n",
        "    51: 'carrot',\n",
        "    52: 'hot dog',\n",
        "    53: 'pizza',\n",
        "    54: 'donut',\n",
        "    55: 'cake',\n",
        "    56: 'chair',\n",
        "    57: 'couch',\n",
        "    58: 'potted plant',\n",
        "    59: 'bed',\n",
        "    60: 'dining table',\n",
        "    61: 'toilet',\n",
        "    62: 'tv',\n",
        "    63: 'laptop',\n",
        "    64: 'mouse',\n",
        "    65: 'remote',\n",
        "    66: 'keyboard',\n",
        "    67: 'cell phone',\n",
        "    68: 'microwave',\n",
        "    69: 'oven',\n",
        "    70: 'toaster',\n",
        "    71: 'sink',\n",
        "    72: 'refrigerator',\n",
        "    73: 'book',\n",
        "    74: 'clock',\n",
        "    75: 'vase',\n",
        "    76: 'scissors',\n",
        "    77: 'teddy bear',\n",
        "    78: 'hair drier',\n",
        "    79: 'toothbrush'\n",
        "}\n"
      ],
      "metadata": {
        "id": "ZP1y1ivd7zLN"
      },
      "execution_count": 1,
      "outputs": []
    },
    {
      "cell_type": "code",
      "source": [
        "from ultralytics import YOLO\n",
        "import cv2\n",
        "import os"
      ],
      "metadata": {
        "id": "rC9TFdk8o7E5"
      },
      "execution_count": 2,
      "outputs": []
    },
    {
      "cell_type": "code",
      "source": [
        "file_path = \"/content/drive/MyDrive/Test_sources/Sources/Individual Clips/TechnicalSampleForTest00000000.mov\"\n",
        "vid_cap = cv2.VideoCapture(file_path)\n",
        "fps = vid_cap.get(cv2.CAP_PROP_FPS)\n",
        "print(fps)"
      ],
      "metadata": {
        "colab": {
          "base_uri": "https://localhost:8080/"
        },
        "id": "zKRCtHQo31ow",
        "outputId": "be0f9fd9-4e01-430c-fff8-0a71228276ac"
      },
      "execution_count": 3,
      "outputs": [
        {
          "output_type": "stream",
          "name": "stdout",
          "text": [
            "23.976023976023978\n"
          ]
        }
      ]
    },
    {
      "cell_type": "code",
      "source": [
        "model = YOLO('yolov8x-seg.pt')"
      ],
      "metadata": {
        "id": "WzBWp1WSzS82"
      },
      "execution_count": 4,
      "outputs": []
    },
    {
      "cell_type": "markdown",
      "source": [
        "# ***Model only for Cup, Tv and Cell Phone Objects***"
      ],
      "metadata": {
        "id": "7_aizk7fdsUw"
      }
    },
    {
      "cell_type": "code",
      "source": [
        "results = model.track(source=file_path, classes=[41,62,67], show=True, save=True, stream=True)"
      ],
      "metadata": {
        "colab": {
          "base_uri": "https://localhost:8080/"
        },
        "id": "bZVlnNG00TIg",
        "outputId": "e700d49f-0ec7-41a4-9d34-2a74f488056d"
      },
      "execution_count": 5,
      "outputs": [
        {
          "output_type": "stream",
          "name": "stdout",
          "text": [
            "WARNING ⚠️ Environment does not support cv2.imshow() or PIL Image.show()\n",
            "\n"
          ]
        }
      ]
    },
    {
      "cell_type": "code",
      "source": [
        "print(type(results))\n",
        "for result in results:\n",
        "  print(result.orig_img.shape, result.boxes.shape, result.boxes.cls, result.boxes.conf, result.boxes.id,\n",
        "        result.probs, result.keypoints)"
      ],
      "metadata": {
        "id": "xkRGPWodKYO-"
      },
      "execution_count": null,
      "outputs": []
    },
    {
      "cell_type": "markdown",
      "source": [
        "# ***Log generation***"
      ],
      "metadata": {
        "id": "13pjwoJvgsJC"
      }
    },
    {
      "cell_type": "code",
      "source": [
        "filename = os.path.basename(file_path)\n",
        "timestamp = 0\n",
        "with open(filename+'.log.txt', 'w') as f:\n",
        "  #f.write(f'Output-Directory:{result.save_dir}\\\\n')\n",
        "  for fid, result in enumerate(results):\n",
        "    timestamp += (1/fps)\n",
        "    mins, secs = divmod(timestamp, 60)\n",
        "    f.write(f'Frame ID:{fid}, Classes-Detected: {[coco_classes[int(key)] for key in result.boxes.cls]}, Respective-Conf: {result.boxes.conf}, Timestamp:{mins}:{secs}\\\\n')"
      ],
      "metadata": {
        "colab": {
          "base_uri": "https://localhost:8080/"
        },
        "id": "DOG1Lv7EMRGv",
        "outputId": "6dd3a4d9-09f7-47e5-ff78-903ac00b90dd"
      },
      "execution_count": 6,
      "outputs": [
        {
          "output_type": "stream",
          "name": "stdout",
          "text": [
            "\n",
            "video 1/1 (1/168) /content/drive/MyDrive/Test_sources/Sources/Individual Clips/TechnicalSampleForTest00000000.mov: 384x640 1 cell phone, 4268.3ms\n",
            "video 1/1 (2/168) /content/drive/MyDrive/Test_sources/Sources/Individual Clips/TechnicalSampleForTest00000000.mov: 384x640 1 cell phone, 4151.6ms\n",
            "video 1/1 (3/168) /content/drive/MyDrive/Test_sources/Sources/Individual Clips/TechnicalSampleForTest00000000.mov: 384x640 1 cell phone, 3597.3ms\n",
            "video 1/1 (4/168) /content/drive/MyDrive/Test_sources/Sources/Individual Clips/TechnicalSampleForTest00000000.mov: 384x640 1 cell phone, 3519.7ms\n",
            "video 1/1 (5/168) /content/drive/MyDrive/Test_sources/Sources/Individual Clips/TechnicalSampleForTest00000000.mov: 384x640 1 cell phone, 4544.2ms\n",
            "video 1/1 (6/168) /content/drive/MyDrive/Test_sources/Sources/Individual Clips/TechnicalSampleForTest00000000.mov: 384x640 1 cell phone, 3466.9ms\n",
            "video 1/1 (7/168) /content/drive/MyDrive/Test_sources/Sources/Individual Clips/TechnicalSampleForTest00000000.mov: 384x640 1 cell phone, 3484.3ms\n",
            "video 1/1 (8/168) /content/drive/MyDrive/Test_sources/Sources/Individual Clips/TechnicalSampleForTest00000000.mov: 384x640 1 cell phone, 5158.2ms\n",
            "video 1/1 (9/168) /content/drive/MyDrive/Test_sources/Sources/Individual Clips/TechnicalSampleForTest00000000.mov: 384x640 1 cell phone, 3533.8ms\n",
            "video 1/1 (10/168) /content/drive/MyDrive/Test_sources/Sources/Individual Clips/TechnicalSampleForTest00000000.mov: 384x640 (no detections), 3494.3ms\n",
            "video 1/1 (11/168) /content/drive/MyDrive/Test_sources/Sources/Individual Clips/TechnicalSampleForTest00000000.mov: 384x640 (no detections), 4788.8ms\n",
            "video 1/1 (12/168) /content/drive/MyDrive/Test_sources/Sources/Individual Clips/TechnicalSampleForTest00000000.mov: 384x640 (no detections), 3447.5ms\n",
            "video 1/1 (13/168) /content/drive/MyDrive/Test_sources/Sources/Individual Clips/TechnicalSampleForTest00000000.mov: 384x640 (no detections), 3441.3ms\n",
            "video 1/1 (14/168) /content/drive/MyDrive/Test_sources/Sources/Individual Clips/TechnicalSampleForTest00000000.mov: 384x640 1 cup, 4203.2ms\n",
            "video 1/1 (15/168) /content/drive/MyDrive/Test_sources/Sources/Individual Clips/TechnicalSampleForTest00000000.mov: 384x640 (no detections), 3840.9ms\n",
            "video 1/1 (16/168) /content/drive/MyDrive/Test_sources/Sources/Individual Clips/TechnicalSampleForTest00000000.mov: 384x640 (no detections), 3404.5ms\n",
            "video 1/1 (17/168) /content/drive/MyDrive/Test_sources/Sources/Individual Clips/TechnicalSampleForTest00000000.mov: 384x640 (no detections), 3446.6ms\n",
            "video 1/1 (18/168) /content/drive/MyDrive/Test_sources/Sources/Individual Clips/TechnicalSampleForTest00000000.mov: 384x640 (no detections), 4772.0ms\n",
            "video 1/1 (19/168) /content/drive/MyDrive/Test_sources/Sources/Individual Clips/TechnicalSampleForTest00000000.mov: 384x640 (no detections), 3464.5ms\n",
            "video 1/1 (20/168) /content/drive/MyDrive/Test_sources/Sources/Individual Clips/TechnicalSampleForTest00000000.mov: 384x640 (no detections), 3458.3ms\n",
            "video 1/1 (21/168) /content/drive/MyDrive/Test_sources/Sources/Individual Clips/TechnicalSampleForTest00000000.mov: 384x640 1 cup, 2 cell phones, 4474.0ms\n",
            "video 1/1 (22/168) /content/drive/MyDrive/Test_sources/Sources/Individual Clips/TechnicalSampleForTest00000000.mov: 384x640 1 cup, 3554.1ms\n",
            "video 1/1 (23/168) /content/drive/MyDrive/Test_sources/Sources/Individual Clips/TechnicalSampleForTest00000000.mov: 384x640 1 cup, 1 cell phone, 3462.1ms\n",
            "video 1/1 (24/168) /content/drive/MyDrive/Test_sources/Sources/Individual Clips/TechnicalSampleForTest00000000.mov: 384x640 1 cup, 1 cell phone, 3951.9ms\n",
            "video 1/1 (25/168) /content/drive/MyDrive/Test_sources/Sources/Individual Clips/TechnicalSampleForTest00000000.mov: 384x640 1 cup, 1 cell phone, 4165.2ms\n",
            "video 1/1 (26/168) /content/drive/MyDrive/Test_sources/Sources/Individual Clips/TechnicalSampleForTest00000000.mov: 384x640 1 cup, 1 cell phone, 3441.7ms\n",
            "video 1/1 (27/168) /content/drive/MyDrive/Test_sources/Sources/Individual Clips/TechnicalSampleForTest00000000.mov: 384x640 1 cup, 1 cell phone, 3492.9ms\n",
            "video 1/1 (28/168) /content/drive/MyDrive/Test_sources/Sources/Individual Clips/TechnicalSampleForTest00000000.mov: 384x640 1 cup, 1 cell phone, 4745.7ms\n",
            "video 1/1 (29/168) /content/drive/MyDrive/Test_sources/Sources/Individual Clips/TechnicalSampleForTest00000000.mov: 384x640 1 cup, 1 cell phone, 3532.4ms\n",
            "video 1/1 (30/168) /content/drive/MyDrive/Test_sources/Sources/Individual Clips/TechnicalSampleForTest00000000.mov: 384x640 1 cup, 1 cell phone, 3423.2ms\n",
            "video 1/1 (31/168) /content/drive/MyDrive/Test_sources/Sources/Individual Clips/TechnicalSampleForTest00000000.mov: 384x640 1 cup, 1 cell phone, 4832.8ms\n",
            "video 1/1 (32/168) /content/drive/MyDrive/Test_sources/Sources/Individual Clips/TechnicalSampleForTest00000000.mov: 384x640 1 cup, 1 cell phone, 3443.7ms\n",
            "video 1/1 (33/168) /content/drive/MyDrive/Test_sources/Sources/Individual Clips/TechnicalSampleForTest00000000.mov: 384x640 2 cups, 1 cell phone, 3499.7ms\n",
            "video 1/1 (34/168) /content/drive/MyDrive/Test_sources/Sources/Individual Clips/TechnicalSampleForTest00000000.mov: 384x640 2 cups, 1 cell phone, 4516.4ms\n",
            "video 1/1 (35/168) /content/drive/MyDrive/Test_sources/Sources/Individual Clips/TechnicalSampleForTest00000000.mov: 384x640 2 cups, 1 cell phone, 3685.2ms\n",
            "video 1/1 (36/168) /content/drive/MyDrive/Test_sources/Sources/Individual Clips/TechnicalSampleForTest00000000.mov: 384x640 2 cups, 1 cell phone, 3454.3ms\n",
            "video 1/1 (37/168) /content/drive/MyDrive/Test_sources/Sources/Individual Clips/TechnicalSampleForTest00000000.mov: 384x640 2 cups, 2 cell phones, 3855.1ms\n",
            "video 1/1 (38/168) /content/drive/MyDrive/Test_sources/Sources/Individual Clips/TechnicalSampleForTest00000000.mov: 384x640 2 cups, 2 cell phones, 4350.7ms\n",
            "video 1/1 (39/168) /content/drive/MyDrive/Test_sources/Sources/Individual Clips/TechnicalSampleForTest00000000.mov: 384x640 2 cups, 2 cell phones, 3515.2ms\n",
            "video 1/1 (40/168) /content/drive/MyDrive/Test_sources/Sources/Individual Clips/TechnicalSampleForTest00000000.mov: 384x640 2 cups, 2 cell phones, 3511.3ms\n",
            "video 1/1 (41/168) /content/drive/MyDrive/Test_sources/Sources/Individual Clips/TechnicalSampleForTest00000000.mov: 384x640 2 cups, 2 cell phones, 4810.4ms\n",
            "video 1/1 (42/168) /content/drive/MyDrive/Test_sources/Sources/Individual Clips/TechnicalSampleForTest00000000.mov: 384x640 2 cups, 2 cell phones, 3506.6ms\n",
            "video 1/1 (43/168) /content/drive/MyDrive/Test_sources/Sources/Individual Clips/TechnicalSampleForTest00000000.mov: 384x640 2 cups, 2 cell phones, 3418.0ms\n",
            "video 1/1 (44/168) /content/drive/MyDrive/Test_sources/Sources/Individual Clips/TechnicalSampleForTest00000000.mov: 384x640 2 cups, 2 cell phones, 4800.3ms\n",
            "video 1/1 (45/168) /content/drive/MyDrive/Test_sources/Sources/Individual Clips/TechnicalSampleForTest00000000.mov: 384x640 2 cups, 2 cell phones, 3509.7ms\n",
            "video 1/1 (46/168) /content/drive/MyDrive/Test_sources/Sources/Individual Clips/TechnicalSampleForTest00000000.mov: 384x640 2 cups, 2 cell phones, 3443.4ms\n",
            "video 1/1 (47/168) /content/drive/MyDrive/Test_sources/Sources/Individual Clips/TechnicalSampleForTest00000000.mov: 384x640 2 cups, 2 cell phones, 5521.7ms\n",
            "video 1/1 (48/168) /content/drive/MyDrive/Test_sources/Sources/Individual Clips/TechnicalSampleForTest00000000.mov: 384x640 2 cups, 2 cell phones, 3488.1ms\n",
            "video 1/1 (49/168) /content/drive/MyDrive/Test_sources/Sources/Individual Clips/TechnicalSampleForTest00000000.mov: 384x640 2 cups, 2 cell phones, 3463.2ms\n",
            "video 1/1 (50/168) /content/drive/MyDrive/Test_sources/Sources/Individual Clips/TechnicalSampleForTest00000000.mov: 384x640 2 cups, 2 cell phones, 4253.1ms\n",
            "video 1/1 (51/168) /content/drive/MyDrive/Test_sources/Sources/Individual Clips/TechnicalSampleForTest00000000.mov: 384x640 2 cups, 2 cell phones, 3863.8ms\n",
            "video 1/1 (52/168) /content/drive/MyDrive/Test_sources/Sources/Individual Clips/TechnicalSampleForTest00000000.mov: 384x640 2 cups, 2 cell phones, 3486.9ms\n",
            "video 1/1 (53/168) /content/drive/MyDrive/Test_sources/Sources/Individual Clips/TechnicalSampleForTest00000000.mov: 384x640 2 cups, 2 cell phones, 3764.2ms\n",
            "video 1/1 (54/168) /content/drive/MyDrive/Test_sources/Sources/Individual Clips/TechnicalSampleForTest00000000.mov: 384x640 2 cups, 2 cell phones, 4325.2ms\n",
            "video 1/1 (55/168) /content/drive/MyDrive/Test_sources/Sources/Individual Clips/TechnicalSampleForTest00000000.mov: 384x640 2 cups, 2 cell phones, 3491.8ms\n",
            "video 1/1 (56/168) /content/drive/MyDrive/Test_sources/Sources/Individual Clips/TechnicalSampleForTest00000000.mov: 384x640 2 cups, 2 cell phones, 3459.0ms\n",
            "video 1/1 (57/168) /content/drive/MyDrive/Test_sources/Sources/Individual Clips/TechnicalSampleForTest00000000.mov: 384x640 2 cups, 2 cell phones, 4881.4ms\n",
            "video 1/1 (58/168) /content/drive/MyDrive/Test_sources/Sources/Individual Clips/TechnicalSampleForTest00000000.mov: 384x640 2 cups, 2 cell phones, 3460.5ms\n",
            "video 1/1 (59/168) /content/drive/MyDrive/Test_sources/Sources/Individual Clips/TechnicalSampleForTest00000000.mov: 384x640 2 cups, 2 cell phones, 3559.4ms\n",
            "video 1/1 (60/168) /content/drive/MyDrive/Test_sources/Sources/Individual Clips/TechnicalSampleForTest00000000.mov: 384x640 2 cups, 2 cell phones, 4811.6ms\n",
            "video 1/1 (61/168) /content/drive/MyDrive/Test_sources/Sources/Individual Clips/TechnicalSampleForTest00000000.mov: 384x640 2 cups, 2 cell phones, 3455.9ms\n",
            "video 1/1 (62/168) /content/drive/MyDrive/Test_sources/Sources/Individual Clips/TechnicalSampleForTest00000000.mov: 384x640 2 cups, 2 cell phones, 3467.7ms\n",
            "video 1/1 (63/168) /content/drive/MyDrive/Test_sources/Sources/Individual Clips/TechnicalSampleForTest00000000.mov: 384x640 2 cups, 2 cell phones, 4467.0ms\n",
            "video 1/1 (64/168) /content/drive/MyDrive/Test_sources/Sources/Individual Clips/TechnicalSampleForTest00000000.mov: 384x640 2 cups, 2 cell phones, 3674.4ms\n",
            "video 1/1 (65/168) /content/drive/MyDrive/Test_sources/Sources/Individual Clips/TechnicalSampleForTest00000000.mov: 384x640 2 cups, 2 cell phones, 3491.2ms\n",
            "video 1/1 (66/168) /content/drive/MyDrive/Test_sources/Sources/Individual Clips/TechnicalSampleForTest00000000.mov: 384x640 2 cups, 2 cell phones, 3852.4ms\n",
            "video 1/1 (67/168) /content/drive/MyDrive/Test_sources/Sources/Individual Clips/TechnicalSampleForTest00000000.mov: 384x640 2 cups, 2 cell phones, 4273.9ms\n",
            "video 1/1 (68/168) /content/drive/MyDrive/Test_sources/Sources/Individual Clips/TechnicalSampleForTest00000000.mov: 384x640 2 cups, 2 cell phones, 3408.6ms\n",
            "video 1/1 (69/168) /content/drive/MyDrive/Test_sources/Sources/Individual Clips/TechnicalSampleForTest00000000.mov: 384x640 2 cups, 2 cell phones, 3516.2ms\n",
            "video 1/1 (70/168) /content/drive/MyDrive/Test_sources/Sources/Individual Clips/TechnicalSampleForTest00000000.mov: 384x640 2 cups, 2 cell phones, 4861.2ms\n",
            "video 1/1 (71/168) /content/drive/MyDrive/Test_sources/Sources/Individual Clips/TechnicalSampleForTest00000000.mov: 384x640 2 cups, 1 cell phone, 3476.1ms\n",
            "video 1/1 (72/168) /content/drive/MyDrive/Test_sources/Sources/Individual Clips/TechnicalSampleForTest00000000.mov: 384x640 2 cups, 1 cell phone, 3416.1ms\n",
            "video 1/1 (73/168) /content/drive/MyDrive/Test_sources/Sources/Individual Clips/TechnicalSampleForTest00000000.mov: 384x640 2 cups, 1 cell phone, 4818.9ms\n",
            "video 1/1 (74/168) /content/drive/MyDrive/Test_sources/Sources/Individual Clips/TechnicalSampleForTest00000000.mov: 384x640 2 cups, 1 cell phone, 3528.3ms\n",
            "video 1/1 (75/168) /content/drive/MyDrive/Test_sources/Sources/Individual Clips/TechnicalSampleForTest00000000.mov: 384x640 2 cups, 1 cell phone, 3425.9ms\n",
            "video 1/1 (76/168) /content/drive/MyDrive/Test_sources/Sources/Individual Clips/TechnicalSampleForTest00000000.mov: 384x640 2 cups, 1 cell phone, 4417.6ms\n",
            "video 1/1 (77/168) /content/drive/MyDrive/Test_sources/Sources/Individual Clips/TechnicalSampleForTest00000000.mov: 384x640 2 cups, 1 cell phone, 3780.0ms\n",
            "video 1/1 (78/168) /content/drive/MyDrive/Test_sources/Sources/Individual Clips/TechnicalSampleForTest00000000.mov: 384x640 2 cups, 1 cell phone, 3399.1ms\n",
            "video 1/1 (79/168) /content/drive/MyDrive/Test_sources/Sources/Individual Clips/TechnicalSampleForTest00000000.mov: 384x640 2 cups, 1 cell phone, 3789.8ms\n",
            "video 1/1 (80/168) /content/drive/MyDrive/Test_sources/Sources/Individual Clips/TechnicalSampleForTest00000000.mov: 384x640 2 cups, 1 cell phone, 4328.8ms\n",
            "video 1/1 (81/168) /content/drive/MyDrive/Test_sources/Sources/Individual Clips/TechnicalSampleForTest00000000.mov: 384x640 2 cups, 1 cell phone, 3387.7ms\n",
            "video 1/1 (82/168) /content/drive/MyDrive/Test_sources/Sources/Individual Clips/TechnicalSampleForTest00000000.mov: 384x640 2 cups, 1 cell phone, 3451.7ms\n",
            "video 1/1 (83/168) /content/drive/MyDrive/Test_sources/Sources/Individual Clips/TechnicalSampleForTest00000000.mov: 384x640 2 cups, 1 cell phone, 4815.6ms\n",
            "video 1/1 (84/168) /content/drive/MyDrive/Test_sources/Sources/Individual Clips/TechnicalSampleForTest00000000.mov: 384x640 2 cups, 1 cell phone, 3573.8ms\n",
            "video 1/1 (85/168) /content/drive/MyDrive/Test_sources/Sources/Individual Clips/TechnicalSampleForTest00000000.mov: 384x640 2 cups, 1 cell phone, 3401.4ms\n",
            "video 1/1 (86/168) /content/drive/MyDrive/Test_sources/Sources/Individual Clips/TechnicalSampleForTest00000000.mov: 384x640 2 cups, 1 cell phone, 4762.0ms\n",
            "video 1/1 (87/168) /content/drive/MyDrive/Test_sources/Sources/Individual Clips/TechnicalSampleForTest00000000.mov: 384x640 2 cups, 1 cell phone, 3440.7ms\n",
            "video 1/1 (88/168) /content/drive/MyDrive/Test_sources/Sources/Individual Clips/TechnicalSampleForTest00000000.mov: 384x640 2 cups, 1 cell phone, 3507.0ms\n",
            "video 1/1 (89/168) /content/drive/MyDrive/Test_sources/Sources/Individual Clips/TechnicalSampleForTest00000000.mov: 384x640 2 cups, 1 cell phone, 4178.6ms\n",
            "video 1/1 (90/168) /content/drive/MyDrive/Test_sources/Sources/Individual Clips/TechnicalSampleForTest00000000.mov: 384x640 2 cups, 1 cell phone, 3821.4ms\n",
            "video 1/1 (91/168) /content/drive/MyDrive/Test_sources/Sources/Individual Clips/TechnicalSampleForTest00000000.mov: 384x640 2 cups, 1 cell phone, 3487.2ms\n",
            "video 1/1 (92/168) /content/drive/MyDrive/Test_sources/Sources/Individual Clips/TechnicalSampleForTest00000000.mov: 384x640 2 cups, 1 cell phone, 3743.0ms\n",
            "video 1/1 (93/168) /content/drive/MyDrive/Test_sources/Sources/Individual Clips/TechnicalSampleForTest00000000.mov: 384x640 2 cups, 1 cell phone, 4402.2ms\n",
            "video 1/1 (94/168) /content/drive/MyDrive/Test_sources/Sources/Individual Clips/TechnicalSampleForTest00000000.mov: 384x640 2 cups, 1 cell phone, 3452.0ms\n",
            "video 1/1 (95/168) /content/drive/MyDrive/Test_sources/Sources/Individual Clips/TechnicalSampleForTest00000000.mov: 384x640 2 cups, 1 cell phone, 3506.4ms\n",
            "video 1/1 (96/168) /content/drive/MyDrive/Test_sources/Sources/Individual Clips/TechnicalSampleForTest00000000.mov: 384x640 2 cups, 1 cell phone, 4746.5ms\n",
            "video 1/1 (97/168) /content/drive/MyDrive/Test_sources/Sources/Individual Clips/TechnicalSampleForTest00000000.mov: 384x640 2 cups, 1 cell phone, 3515.6ms\n",
            "video 1/1 (98/168) /content/drive/MyDrive/Test_sources/Sources/Individual Clips/TechnicalSampleForTest00000000.mov: 384x640 2 cups, 1 cell phone, 3482.4ms\n",
            "video 1/1 (99/168) /content/drive/MyDrive/Test_sources/Sources/Individual Clips/TechnicalSampleForTest00000000.mov: 384x640 2 cups, 1 cell phone, 4697.7ms\n",
            "video 1/1 (100/168) /content/drive/MyDrive/Test_sources/Sources/Individual Clips/TechnicalSampleForTest00000000.mov: 384x640 2 cups, 1 cell phone, 3484.7ms\n",
            "video 1/1 (101/168) /content/drive/MyDrive/Test_sources/Sources/Individual Clips/TechnicalSampleForTest00000000.mov: 384x640 2 cups, 1 cell phone, 3468.0ms\n",
            "video 1/1 (102/168) /content/drive/MyDrive/Test_sources/Sources/Individual Clips/TechnicalSampleForTest00000000.mov: 384x640 2 cups, 1 cell phone, 4301.2ms\n",
            "video 1/1 (103/168) /content/drive/MyDrive/Test_sources/Sources/Individual Clips/TechnicalSampleForTest00000000.mov: 384x640 2 cups, 1 cell phone, 3889.1ms\n",
            "video 1/1 (104/168) /content/drive/MyDrive/Test_sources/Sources/Individual Clips/TechnicalSampleForTest00000000.mov: 384x640 2 cups, 1 cell phone, 3509.0ms\n",
            "video 1/1 (105/168) /content/drive/MyDrive/Test_sources/Sources/Individual Clips/TechnicalSampleForTest00000000.mov: 384x640 2 cups, 1 cell phone, 3862.6ms\n",
            "video 1/1 (106/168) /content/drive/MyDrive/Test_sources/Sources/Individual Clips/TechnicalSampleForTest00000000.mov: 384x640 2 cups, 1 cell phone, 4414.4ms\n",
            "video 1/1 (107/168) /content/drive/MyDrive/Test_sources/Sources/Individual Clips/TechnicalSampleForTest00000000.mov: 384x640 2 cups, 1 cell phone, 3357.7ms\n",
            "video 1/1 (108/168) /content/drive/MyDrive/Test_sources/Sources/Individual Clips/TechnicalSampleForTest00000000.mov: 384x640 2 cups, 1 cell phone, 3433.3ms\n",
            "video 1/1 (109/168) /content/drive/MyDrive/Test_sources/Sources/Individual Clips/TechnicalSampleForTest00000000.mov: 384x640 2 cups, 1 cell phone, 4874.9ms\n",
            "video 1/1 (110/168) /content/drive/MyDrive/Test_sources/Sources/Individual Clips/TechnicalSampleForTest00000000.mov: 384x640 2 cups, 1 cell phone, 3455.2ms\n",
            "video 1/1 (111/168) /content/drive/MyDrive/Test_sources/Sources/Individual Clips/TechnicalSampleForTest00000000.mov: 384x640 2 cups, 1 cell phone, 3600.1ms\n",
            "video 1/1 (112/168) /content/drive/MyDrive/Test_sources/Sources/Individual Clips/TechnicalSampleForTest00000000.mov: 384x640 2 cups, 1 cell phone, 4733.4ms\n",
            "video 1/1 (113/168) /content/drive/MyDrive/Test_sources/Sources/Individual Clips/TechnicalSampleForTest00000000.mov: 384x640 2 cups, 1 cell phone, 3454.5ms\n",
            "video 1/1 (114/168) /content/drive/MyDrive/Test_sources/Sources/Individual Clips/TechnicalSampleForTest00000000.mov: 384x640 2 cups, 1 cell phone, 3498.7ms\n",
            "video 1/1 (115/168) /content/drive/MyDrive/Test_sources/Sources/Individual Clips/TechnicalSampleForTest00000000.mov: 384x640 2 cups, 1 cell phone, 4176.2ms\n",
            "video 1/1 (116/168) /content/drive/MyDrive/Test_sources/Sources/Individual Clips/TechnicalSampleForTest00000000.mov: 384x640 2 cups, 1 cell phone, 3951.0ms\n",
            "video 1/1 (117/168) /content/drive/MyDrive/Test_sources/Sources/Individual Clips/TechnicalSampleForTest00000000.mov: 384x640 2 cups, 1 cell phone, 3574.1ms\n",
            "video 1/1 (118/168) /content/drive/MyDrive/Test_sources/Sources/Individual Clips/TechnicalSampleForTest00000000.mov: 384x640 2 cups, 1 cell phone, 3718.0ms\n",
            "video 1/1 (119/168) /content/drive/MyDrive/Test_sources/Sources/Individual Clips/TechnicalSampleForTest00000000.mov: 384x640 2 cups, 2 cell phones, 4371.1ms\n",
            "video 1/1 (120/168) /content/drive/MyDrive/Test_sources/Sources/Individual Clips/TechnicalSampleForTest00000000.mov: 384x640 2 cups, 2 cell phones, 3579.4ms\n",
            "video 1/1 (121/168) /content/drive/MyDrive/Test_sources/Sources/Individual Clips/TechnicalSampleForTest00000000.mov: 384x640 2 cups, 2 cell phones, 3473.6ms\n",
            "video 1/1 (122/168) /content/drive/MyDrive/Test_sources/Sources/Individual Clips/TechnicalSampleForTest00000000.mov: 384x640 2 cups, 2 cell phones, 4751.2ms\n",
            "video 1/1 (123/168) /content/drive/MyDrive/Test_sources/Sources/Individual Clips/TechnicalSampleForTest00000000.mov: 384x640 2 cups, 2 cell phones, 3494.5ms\n",
            "video 1/1 (124/168) /content/drive/MyDrive/Test_sources/Sources/Individual Clips/TechnicalSampleForTest00000000.mov: 384x640 2 cups, 2 cell phones, 3460.5ms\n",
            "video 1/1 (125/168) /content/drive/MyDrive/Test_sources/Sources/Individual Clips/TechnicalSampleForTest00000000.mov: 384x640 2 cups, 2 cell phones, 4831.4ms\n",
            "video 1/1 (126/168) /content/drive/MyDrive/Test_sources/Sources/Individual Clips/TechnicalSampleForTest00000000.mov: 384x640 2 cups, 2 cell phones, 3472.0ms\n",
            "video 1/1 (127/168) /content/drive/MyDrive/Test_sources/Sources/Individual Clips/TechnicalSampleForTest00000000.mov: 384x640 2 cups, 2 cell phones, 3456.4ms\n",
            "video 1/1 (128/168) /content/drive/MyDrive/Test_sources/Sources/Individual Clips/TechnicalSampleForTest00000000.mov: 384x640 2 cups, 2 cell phones, 4514.8ms\n",
            "video 1/1 (129/168) /content/drive/MyDrive/Test_sources/Sources/Individual Clips/TechnicalSampleForTest00000000.mov: 384x640 2 cups, 2 cell phones, 3661.1ms\n",
            "video 1/1 (130/168) /content/drive/MyDrive/Test_sources/Sources/Individual Clips/TechnicalSampleForTest00000000.mov: 384x640 2 cups, 2 cell phones, 3560.3ms\n",
            "video 1/1 (131/168) /content/drive/MyDrive/Test_sources/Sources/Individual Clips/TechnicalSampleForTest00000000.mov: 384x640 2 cups, 2 cell phones, 3907.4ms\n",
            "video 1/1 (132/168) /content/drive/MyDrive/Test_sources/Sources/Individual Clips/TechnicalSampleForTest00000000.mov: 384x640 2 cups, 2 cell phones, 4159.6ms\n",
            "video 1/1 (133/168) /content/drive/MyDrive/Test_sources/Sources/Individual Clips/TechnicalSampleForTest00000000.mov: 384x640 2 cups, 2 cell phones, 3484.6ms\n",
            "video 1/1 (134/168) /content/drive/MyDrive/Test_sources/Sources/Individual Clips/TechnicalSampleForTest00000000.mov: 384x640 2 cups, 2 cell phones, 3483.3ms\n",
            "video 1/1 (135/168) /content/drive/MyDrive/Test_sources/Sources/Individual Clips/TechnicalSampleForTest00000000.mov: 384x640 2 cups, 2 cell phones, 4709.1ms\n",
            "video 1/1 (136/168) /content/drive/MyDrive/Test_sources/Sources/Individual Clips/TechnicalSampleForTest00000000.mov: 384x640 2 cups, 2 cell phones, 3378.9ms\n",
            "video 1/1 (137/168) /content/drive/MyDrive/Test_sources/Sources/Individual Clips/TechnicalSampleForTest00000000.mov: 384x640 2 cups, 1 cell phone, 3441.3ms\n",
            "video 1/1 (138/168) /content/drive/MyDrive/Test_sources/Sources/Individual Clips/TechnicalSampleForTest00000000.mov: 384x640 2 cups, 1 cell phone, 4832.7ms\n",
            "video 1/1 (139/168) /content/drive/MyDrive/Test_sources/Sources/Individual Clips/TechnicalSampleForTest00000000.mov: 384x640 2 cups, 1 cell phone, 3438.7ms\n",
            "video 1/1 (140/168) /content/drive/MyDrive/Test_sources/Sources/Individual Clips/TechnicalSampleForTest00000000.mov: 384x640 2 cups, 1 cell phone, 3461.6ms\n",
            "video 1/1 (141/168) /content/drive/MyDrive/Test_sources/Sources/Individual Clips/TechnicalSampleForTest00000000.mov: 384x640 2 cups, 1 cell phone, 4322.5ms\n",
            "video 1/1 (142/168) /content/drive/MyDrive/Test_sources/Sources/Individual Clips/TechnicalSampleForTest00000000.mov: 384x640 2 cups, 1 cell phone, 3852.3ms\n",
            "video 1/1 (143/168) /content/drive/MyDrive/Test_sources/Sources/Individual Clips/TechnicalSampleForTest00000000.mov: 384x640 2 cups, 1 cell phone, 3455.2ms\n",
            "video 1/1 (144/168) /content/drive/MyDrive/Test_sources/Sources/Individual Clips/TechnicalSampleForTest00000000.mov: 384x640 2 cups, 1 cell phone, 3780.3ms\n",
            "video 1/1 (145/168) /content/drive/MyDrive/Test_sources/Sources/Individual Clips/TechnicalSampleForTest00000000.mov: 384x640 2 cups, 1 cell phone, 4439.3ms\n",
            "video 1/1 (146/168) /content/drive/MyDrive/Test_sources/Sources/Individual Clips/TechnicalSampleForTest00000000.mov: 384x640 2 cups, 1 cell phone, 3434.1ms\n",
            "video 1/1 (147/168) /content/drive/MyDrive/Test_sources/Sources/Individual Clips/TechnicalSampleForTest00000000.mov: 384x640 2 cups, 1 cell phone, 3524.6ms\n",
            "video 1/1 (148/168) /content/drive/MyDrive/Test_sources/Sources/Individual Clips/TechnicalSampleForTest00000000.mov: 384x640 2 cups, 1 cell phone, 4830.9ms\n",
            "video 1/1 (149/168) /content/drive/MyDrive/Test_sources/Sources/Individual Clips/TechnicalSampleForTest00000000.mov: 384x640 2 cups, 1 cell phone, 3404.5ms\n",
            "video 1/1 (150/168) /content/drive/MyDrive/Test_sources/Sources/Individual Clips/TechnicalSampleForTest00000000.mov: 384x640 2 cups, 1 cell phone, 3559.6ms\n",
            "video 1/1 (151/168) /content/drive/MyDrive/Test_sources/Sources/Individual Clips/TechnicalSampleForTest00000000.mov: 384x640 2 cups, 1 cell phone, 4885.4ms\n",
            "video 1/1 (152/168) /content/drive/MyDrive/Test_sources/Sources/Individual Clips/TechnicalSampleForTest00000000.mov: 384x640 2 cups, 1 cell phone, 3452.6ms\n",
            "video 1/1 (153/168) /content/drive/MyDrive/Test_sources/Sources/Individual Clips/TechnicalSampleForTest00000000.mov: 384x640 2 cups, 1 cell phone, 3405.6ms\n",
            "video 1/1 (154/168) /content/drive/MyDrive/Test_sources/Sources/Individual Clips/TechnicalSampleForTest00000000.mov: 384x640 2 cups, 1 cell phone, 4288.8ms\n",
            "video 1/1 (155/168) /content/drive/MyDrive/Test_sources/Sources/Individual Clips/TechnicalSampleForTest00000000.mov: 384x640 2 cups, 1 cell phone, 3746.9ms\n",
            "video 1/1 (156/168) /content/drive/MyDrive/Test_sources/Sources/Individual Clips/TechnicalSampleForTest00000000.mov: 384x640 2 cups, 1 cell phone, 3819.6ms\n",
            "video 1/1 (157/168) /content/drive/MyDrive/Test_sources/Sources/Individual Clips/TechnicalSampleForTest00000000.mov: 384x640 2 cups, 1 cell phone, 4734.9ms\n",
            "video 1/1 (158/168) /content/drive/MyDrive/Test_sources/Sources/Individual Clips/TechnicalSampleForTest00000000.mov: 384x640 2 cups, 1 cell phone, 4257.3ms\n",
            "video 1/1 (159/168) /content/drive/MyDrive/Test_sources/Sources/Individual Clips/TechnicalSampleForTest00000000.mov: 384x640 2 cups, 1 cell phone, 3647.1ms\n",
            "video 1/1 (160/168) /content/drive/MyDrive/Test_sources/Sources/Individual Clips/TechnicalSampleForTest00000000.mov: 384x640 2 cups, 1 cell phone, 4327.7ms\n",
            "video 1/1 (161/168) /content/drive/MyDrive/Test_sources/Sources/Individual Clips/TechnicalSampleForTest00000000.mov: 384x640 2 cups, 1 cell phone, 4383.5ms\n",
            "video 1/1 (162/168) /content/drive/MyDrive/Test_sources/Sources/Individual Clips/TechnicalSampleForTest00000000.mov: 384x640 2 cups, 1 cell phone, 4078.2ms\n",
            "video 1/1 (163/168) /content/drive/MyDrive/Test_sources/Sources/Individual Clips/TechnicalSampleForTest00000000.mov: 384x640 2 cups, 1 cell phone, 3775.9ms\n",
            "video 1/1 (164/168) /content/drive/MyDrive/Test_sources/Sources/Individual Clips/TechnicalSampleForTest00000000.mov: 384x640 2 cups, 1 cell phone, 4555.9ms\n",
            "video 1/1 (165/168) /content/drive/MyDrive/Test_sources/Sources/Individual Clips/TechnicalSampleForTest00000000.mov: 384x640 2 cups, 1 cell phone, 3633.7ms\n",
            "video 1/1 (166/168) /content/drive/MyDrive/Test_sources/Sources/Individual Clips/TechnicalSampleForTest00000000.mov: 384x640 2 cups, 1 cell phone, 3619.2ms\n",
            "video 1/1 (167/168) /content/drive/MyDrive/Test_sources/Sources/Individual Clips/TechnicalSampleForTest00000000.mov: 384x640 2 cups, 1 cell phone, 5025.1ms\n",
            "video 1/1 (168/168) /content/drive/MyDrive/Test_sources/Sources/Individual Clips/TechnicalSampleForTest00000000.mov: 384x640 2 cups, 1 cell phone, 3770.0ms\n",
            "Speed: 4.8ms preprocess, 3890.6ms inference, 12.2ms postprocess per image at shape (1, 3, 384, 640)\n",
            "Results saved to \u001b[1mruns/segment/track3\u001b[0m\n"
          ]
        }
      ]
    },
    {
      "cell_type": "markdown",
      "source": [
        "# ***Result for the 0th Frame of the input video***"
      ],
      "metadata": {
        "id": "I8slggWwbqKr"
      }
    },
    {
      "cell_type": "code",
      "source": [
        "print(f\"Frame 0: Object id={results[0].boxes.cls}, confidence={results[0].boxes.conf}, File={results[0].path}\")"
      ],
      "metadata": {
        "colab": {
          "base_uri": "https://localhost:8080/"
        },
        "id": "iHz0Wup_Btr1",
        "outputId": "b616c0ac-6c2a-45ad-92ad-832e93511f06"
      },
      "execution_count": 8,
      "outputs": [
        {
          "output_type": "stream",
          "name": "stdout",
          "text": [
            "Frame 0: Object id=tensor([67.]), confidence=tensor([0.3866]), File=/content/drive/MyDrive/Test_sources/Sources/Individual Clips/TechnicalSampleForTest00000000.mov\n"
          ]
        }
      ]
    },
    {
      "cell_type": "code",
      "source": [],
      "metadata": {
        "id": "_lIsTMlIWL2d"
      },
      "execution_count": null,
      "outputs": []
    }
  ]
}